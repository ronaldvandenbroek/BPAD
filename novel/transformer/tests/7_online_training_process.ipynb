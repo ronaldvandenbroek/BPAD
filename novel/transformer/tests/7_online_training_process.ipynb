{
 "cells": [
  {
   "cell_type": "code",
   "execution_count": 374,
   "metadata": {},
   "outputs": [
    {
     "name": "stdout",
     "output_type": "stream",
     "text": [
      "The autoreload extension is already loaded. To reload it, use:\n",
      "  %reload_ext autoreload\n"
     ]
    }
   ],
   "source": [
    "# Ensure that local modules are reloaded when edited\n",
    "%load_ext autoreload\n",
    "%autoreload 2\n",
    "\n",
    "# Ensure that plots are displayed\n",
    "%matplotlib inline"
   ]
  },
  {
   "cell_type": "code",
   "execution_count": 375,
   "metadata": {},
   "outputs": [],
   "source": [
    "import sys\n",
    "import os\n",
    "sys.path.append(os.path.abspath(os.path.join(os.getcwd(), '../../..')))"
   ]
  },
  {
   "cell_type": "markdown",
   "metadata": {},
   "source": [
    "https://machinelearningmastery.com/training-the-transformer-model/"
   ]
  },
  {
   "cell_type": "markdown",
   "metadata": {},
   "source": [
    "https://machinelearningmastery.com/training-the-transformer-model/"
   ]
  },
  {
   "cell_type": "code",
   "execution_count": 376,
   "metadata": {},
   "outputs": [],
   "source": [
    "from keras.optimizers import Adam # type: ignore\n",
    "from keras.metrics import Mean # type: ignore\n",
    "from tensorflow import data, train, GradientTape, function # type: ignore\n",
    "\n",
    "from novel.transformer.components.transformer import TransformerModel\n",
    "from novel.transformer.components.utils import LRScheduler, loss_fcn, accuracy_fcn, likelihood_fcn\n",
    "from novel.transformer.components.example_dataset import PrepareDataset\n",
    "\n",
    "from time import time"
   ]
  },
  {
   "cell_type": "code",
   "execution_count": 377,
   "metadata": {},
   "outputs": [
    {
     "name": "stdout",
     "output_type": "stream",
     "text": [
      "EncodingNumerical.MIN_MAX_SCALING EncodingNumerical.MIN_MAX_SCALING\n",
      "0.0 81.0\n",
      "0.0 1.0\n",
      "EncodingNumerical.MIN_MAX_SCALING EncodingNumerical.MIN_MAX_SCALING\n",
      "0.0 159.0\n",
      "0.0 1.0\n",
      "EncodingNumerical.MIN_MAX_SCALING EncodingNumerical.MIN_MAX_SCALING\n",
      "0.0 27.0\n",
      "0.0 1.0\n",
      "EncodingNumerical.MIN_MAX_SCALING EncodingNumerical.MIN_MAX_SCALING\n",
      "0.0 54.0\n",
      "0.0 1.0\n",
      "EncodingNumerical.MIN_MAX_SCALING EncodingNumerical.MIN_MAX_SCALING\n",
      "0.0 12.0\n",
      "0.0 1.0\n",
      "Feature Columns: dict_keys(['name', 'arrival_time', 'company', 'country', 'department', 'global_workload_D', 'global_workload_h', 'local_workload_D', 'local_workload_h', 'user'])\n",
      "Feature Shape: (35483, 13)\n",
      "Case Length: [ 2  2  3 ...  8 10 10]\n",
      "Attribute Types: [<AttributeType.CATEGORICAL: 0>, <AttributeType.NUMERICAL: 1>, <AttributeType.CATEGORICAL: 0>, <AttributeType.CATEGORICAL: 0>, <AttributeType.CATEGORICAL: 0>, <AttributeType.NUMERICAL: 1>, <AttributeType.NUMERICAL: 1>, <AttributeType.NUMERICAL: 1>, <AttributeType.NUMERICAL: 1>, <AttributeType.CATEGORICAL: 0>]\n",
      "Encoders: {'name': AttributeDictionary (size=61, indexes=[1,62], reserved=76), 'company': AttributeDictionary (size=7, indexes=[78,85], reserved=-69), 'country': AttributeDictionary (size=17, indexes=[87,104], reserved=-65), 'department': AttributeDictionary (size=17, indexes=[109,126], reserved=-87), 'user': AttributeDictionary (size=102, indexes=[131,233], reserved=-3)}\n",
      "Attribute Labels shape: (35483, 13, 10, 4)\n",
      "Event Labels shape: (35483, 13, 4)\n",
      "Case Labels shape: (35483, 4)\n"
     ]
    }
   ],
   "source": [
    "from utils.dataset import Dataset\n",
    "from utils.enums import EncodingCategorical, EncodingNumerical\n",
    "\n",
    "dataset_name='medium_debug_v2-0.15-4_1.json.gz'\n",
    "prefix=True\n",
    "pretrain_percentage=0.0\n",
    "w2v_vector_size=20\n",
    "w2v_window_size=4\n",
    "categorical_encoding=EncodingCategorical.WORD_2_VEC\n",
    "numerical_encoding=EncodingNumerical.MIN_MAX_SCALING\n",
    "fs_save=None\n",
    "\n",
    "dataset = Dataset(dataset_name, \n",
    "                      beta=0.005, \n",
    "                      prefix=prefix,\n",
    "                      pretrain_percentage=pretrain_percentage,\n",
    "                      w2v_vector_size=w2v_vector_size,\n",
    "                      w2v_window_size=w2v_window_size, \n",
    "                      categorical_encoding=categorical_encoding,\n",
    "                      numerical_encoding=numerical_encoding,\n",
    "                      fs_save=fs_save)"
   ]
  },
  {
   "cell_type": "code",
   "execution_count": 378,
   "metadata": {},
   "outputs": [],
   "source": [
    "from utils.embedding.w2v import ProcessWord2Vec\n",
    "import numpy as np"
   ]
  },
  {
   "cell_type": "code",
   "execution_count": 379,
   "metadata": {},
   "outputs": [
    {
     "data": {
      "text/plain": [
       "array([2, 2, 3, 3, 2, 2, 2, 2, 2, 3, 2, 4, 5, 5, 5, 5, 3, 2, 3, 3])"
      ]
     },
     "execution_count": 379,
     "metadata": {},
     "output_type": "execute_result"
    }
   ],
   "source": [
    "dataset.case_lens[0:20]"
   ]
  },
  {
   "cell_type": "code",
   "execution_count": 380,
   "metadata": {},
   "outputs": [
    {
     "data": {
      "text/plain": [
       "5.491164783135586"
      ]
     },
     "execution_count": 380,
     "metadata": {},
     "output_type": "execute_result"
    }
   ],
   "source": [
    "np.mean(dataset.case_lens)"
   ]
  },
  {
   "cell_type": "code",
   "execution_count": 381,
   "metadata": {},
   "outputs": [
    {
     "data": {
      "text/plain": [
       "(35483, 13)"
      ]
     },
     "execution_count": 381,
     "metadata": {},
     "output_type": "execute_result"
    }
   ],
   "source": [
    "dataset.features[0].shape"
   ]
  },
  {
   "cell_type": "code",
   "execution_count": 382,
   "metadata": {},
   "outputs": [
    {
     "data": {
      "text/plain": [
       "array([[1., 2., 0., 0., 0., 0., 0., 0., 0., 0., 0., 0., 0.],\n",
       "       [1., 2., 0., 0., 0., 0., 0., 0., 0., 0., 0., 0., 0.],\n",
       "       [1., 2., 3., 0., 0., 0., 0., 0., 0., 0., 0., 0., 0.],\n",
       "       [1., 2., 3., 0., 0., 0., 0., 0., 0., 0., 0., 0., 0.],\n",
       "       [1., 2., 0., 0., 0., 0., 0., 0., 0., 0., 0., 0., 0.],\n",
       "       [1., 2., 0., 0., 0., 0., 0., 0., 0., 0., 0., 0., 0.],\n",
       "       [1., 2., 0., 0., 0., 0., 0., 0., 0., 0., 0., 0., 0.],\n",
       "       [1., 2., 0., 0., 0., 0., 0., 0., 0., 0., 0., 0., 0.],\n",
       "       [1., 2., 0., 0., 0., 0., 0., 0., 0., 0., 0., 0., 0.],\n",
       "       [1., 2., 4., 0., 0., 0., 0., 0., 0., 0., 0., 0., 0.],\n",
       "       [1., 2., 0., 0., 0., 0., 0., 0., 0., 0., 0., 0., 0.],\n",
       "       [1., 2., 4., 5., 0., 0., 0., 0., 0., 0., 0., 0., 0.],\n",
       "       [1., 2., 3., 6., 7., 0., 0., 0., 0., 0., 0., 0., 0.],\n",
       "       [1., 2., 3., 6., 7., 0., 0., 0., 0., 0., 0., 0., 0.],\n",
       "       [1., 2., 3., 6., 7., 0., 0., 0., 0., 0., 0., 0., 0.],\n",
       "       [1., 2., 3., 6., 7., 0., 0., 0., 0., 0., 0., 0., 0.],\n",
       "       [1., 2., 4., 0., 0., 0., 0., 0., 0., 0., 0., 0., 0.],\n",
       "       [1., 2., 0., 0., 0., 0., 0., 0., 0., 0., 0., 0., 0.],\n",
       "       [1., 2., 3., 0., 0., 0., 0., 0., 0., 0., 0., 0., 0.],\n",
       "       [1., 2., 4., 0., 0., 0., 0., 0., 0., 0., 0., 0., 0.]])"
      ]
     },
     "execution_count": 382,
     "metadata": {},
     "output_type": "execute_result"
    }
   ],
   "source": [
    "np.set_printoptions(linewidth=200)\n",
    "dataset.features[0][0:20]"
   ]
  },
  {
   "cell_type": "code",
   "execution_count": 383,
   "metadata": {},
   "outputs": [
    {
     "data": {
      "text/plain": [
       "array([[0.        , 0.01886792, 0.        , 0.        , 0.        , 0.        , 0.        , 0.        , 0.        , 0.        , 0.        , 0.        , 0.        ],\n",
       "       [0.        , 0.01886792, 0.        , 0.        , 0.        , 0.        , 0.        , 0.        , 0.        , 0.        , 0.        , 0.        , 0.        ],\n",
       "       [0.        , 0.01886792, 0.01886792, 0.        , 0.        , 0.        , 0.        , 0.        , 0.        , 0.        , 0.        , 0.        , 0.        ],\n",
       "       [0.        , 0.01886792, 0.22012579, 0.        , 0.        , 0.        , 0.        , 0.        , 0.        , 0.        , 0.        , 0.        , 0.        ],\n",
       "       [0.        , 0.22012579, 0.        , 0.        , 0.        , 0.        , 0.        , 0.        , 0.        , 0.        , 0.        , 0.        , 0.        ],\n",
       "       [0.        , 0.22012579, 0.        , 0.        , 0.        , 0.        , 0.        , 0.        , 0.        , 0.        , 0.        , 0.        , 0.        ],\n",
       "       [0.        , 0.22012579, 0.        , 0.        , 0.        , 0.        , 0.        , 0.        , 0.        , 0.        , 0.        , 0.        , 0.        ],\n",
       "       [0.        , 0.22012579, 0.        , 0.        , 0.        , 0.        , 0.        , 0.        , 0.        , 0.        , 0.        , 0.        , 0.        ],\n",
       "       [0.        , 0.22012579, 0.        , 0.        , 0.        , 0.        , 0.        , 0.        , 0.        , 0.        , 0.        , 0.        , 0.        ],\n",
       "       [0.        , 0.22012579, 0.22012579, 0.        , 0.        , 0.        , 0.        , 0.        , 0.        , 0.        , 0.        , 0.        , 0.        ],\n",
       "       [0.        , 0.22012579, 0.        , 0.        , 0.        , 0.        , 0.        , 0.        , 0.        , 0.        , 0.        , 0.        , 0.        ],\n",
       "       [0.        , 0.22012579, 0.22012579, 0.22012579, 0.        , 0.        , 0.        , 0.        , 0.        , 0.        , 0.        , 0.        , 0.        ],\n",
       "       [0.        , 0.01886792, 0.01886792, 0.22012579, 0.        , 0.        , 0.        , 0.        , 0.        , 0.        , 0.        , 0.        , 0.        ],\n",
       "       [0.        , 0.01886792, 0.01886792, 0.22012579, 0.        , 0.        , 0.        , 0.        , 0.        , 0.        , 0.        , 0.        , 0.        ],\n",
       "       [0.        , 0.01886792, 0.22012579, 0.22012579, 0.        , 0.        , 0.        , 0.        , 0.        , 0.        , 0.        , 0.        , 0.        ],\n",
       "       [0.        , 0.01886792, 0.22012579, 0.22012579, 0.        , 0.        , 0.        , 0.        , 0.        , 0.        , 0.        , 0.        , 0.        ],\n",
       "       [0.        , 0.22012579, 0.22012579, 0.        , 0.        , 0.        , 0.        , 0.        , 0.        , 0.        , 0.        , 0.        , 0.        ],\n",
       "       [0.        , 0.22012579, 0.        , 0.        , 0.        , 0.        , 0.        , 0.        , 0.        , 0.        , 0.        , 0.        , 0.        ],\n",
       "       [0.        , 0.22012579, 0.22012579, 0.        , 0.        , 0.        , 0.        , 0.        , 0.        , 0.        , 0.        , 0.        , 0.        ],\n",
       "       [0.        , 0.22012579, 0.22012579, 0.        , 0.        , 0.        , 0.        , 0.        , 0.        , 0.        , 0.        , 0.        , 0.        ]])"
      ]
     },
     "execution_count": 383,
     "metadata": {},
     "output_type": "execute_result"
    }
   ],
   "source": [
    "np.set_printoptions(linewidth=300)\n",
    "dataset.features[5][0:20]"
   ]
  },
  {
   "cell_type": "code",
   "execution_count": 384,
   "metadata": {},
   "outputs": [],
   "source": [
    "w2v_encoder = ProcessWord2Vec(\n",
    "            encoders=dataset.encoders,\n",
    "            pretrain_percentage=dataset.pretrain_percentage,\n",
    "            attribute_types=dataset.attribute_types,\n",
    "            event_attribute_keys=dataset.event_log.event_attribute_keys,\n",
    "            features=dataset._features,\n",
    "            event_log=dataset.event_log,\n",
    "            vector_size=dataset.w2v_vector_size,\n",
    "            window=dataset.w2v_window_size,\n",
    "            fs_save=dataset.fs_save) "
   ]
  },
  {
   "cell_type": "code",
   "execution_count": 385,
   "metadata": {},
   "outputs": [],
   "source": [
    "w2v_features, numeric_features, numeric_feature_names, w2v_feature_names = w2v_encoder.encode_features(average=False, match_numerical=True)"
   ]
  },
  {
   "cell_type": "code",
   "execution_count": 386,
   "metadata": {},
   "outputs": [
    {
     "name": "stdout",
     "output_type": "stream",
     "text": [
      "(5, 35483, 13, 20)\n",
      "(35483, 13, 5, 20)\n"
     ]
    }
   ],
   "source": [
    "# (num_attribute, num_cases, num_events, vector_size) \n",
    "print(w2v_features.shape)\n",
    "transposed_w2v_features = np.transpose(w2v_features, (1, 2, 0, 3))\n",
    "print(transposed_w2v_features.shape)"
   ]
  },
  {
   "cell_type": "code",
   "execution_count": 387,
   "metadata": {},
   "outputs": [
    {
     "name": "stdout",
     "output_type": "stream",
     "text": [
      "(5, 35483, 13, 20)\n",
      "(35483, 13, 5, 20)\n"
     ]
    }
   ],
   "source": [
    "print(numeric_features.shape)\n",
    "transposed_numeric_features = np.transpose(numeric_features, (1, 2, 0, 3))\n",
    "print(transposed_numeric_features.shape)"
   ]
  },
  {
   "cell_type": "code",
   "execution_count": 388,
   "metadata": {},
   "outputs": [
    {
     "data": {
      "text/plain": [
       "5"
      ]
     },
     "execution_count": 388,
     "metadata": {},
     "output_type": "execute_result"
    }
   ],
   "source": [
    "dataset.case_lens[13]"
   ]
  },
  {
   "cell_type": "code",
   "execution_count": 389,
   "metadata": {},
   "outputs": [
    {
     "data": {
      "text/plain": [
       "array([[0.        , 0.        , 0.        , 0.        , 0.        , 0.        , 0.        , 0.        , 0.        , 0.        , 0.        , 0.        , 0.        , 0.        , 0.        , 0.        , 0.        , 0.        , 0.        , 0.        ],\n",
       "       [0.        , 0.        , 0.        , 0.        , 0.        , 0.        , 0.        , 0.        , 0.        , 0.        , 0.        , 0.        , 0.        , 0.        , 0.        , 0.        , 0.        , 0.        , 0.        , 0.        ],\n",
       "       [0.07749242, 0.1545188 , 0.23061587, 0.30532598, 0.37819985, 0.4487992 , 0.5166994 , 0.58149207, 0.64278764, 0.70021737, 0.99699295, 0.98798984, 0.9730449 , 0.95224786, 0.92572397, 0.89363265, 0.8561669 , 0.8135521 , 0.76604444, 0.7139297 ],\n",
       "       [0.11609291, 0.23061587, 0.34202015, 0.4487992 , 0.549509  , 0.64278764, 0.72737366, 0.8021232 , 0.8660254 , 0.9182161 , 0.99323833, 0.9730449 , 0.9396926 , 0.89363265, 0.8354878 , 0.76604444, 0.6862416 , 0.5971586 , 0.5       , 0.39607978],\n",
       "       [0.        , 0.        , 0.        , 0.        , 0.        , 0.        , 0.        , 0.        , 0.        , 0.        , 0.        , 0.        , 0.        , 0.        , 0.        , 0.        , 0.        , 0.        , 0.        , 0.        ],\n",
       "       [0.        , 0.        , 0.        , 0.        , 0.        , 0.        , 0.        , 0.        , 0.        , 0.        , 0.        , 0.        , 0.        , 0.        , 0.        , 0.        , 0.        , 0.        , 0.        , 0.        ],\n",
       "       [0.        , 0.        , 0.        , 0.        , 0.        , 0.        , 0.        , 0.        , 0.        , 0.        , 0.        , 0.        , 0.        , 0.        , 0.        , 0.        , 0.        , 0.        , 0.        , 0.        ],\n",
       "       [0.        , 0.        , 0.        , 0.        , 0.        , 0.        , 0.        , 0.        , 0.        , 0.        , 0.        , 0.        , 0.        , 0.        , 0.        , 0.        , 0.        , 0.        , 0.        , 0.        ],\n",
       "       [0.        , 0.        , 0.        , 0.        , 0.        , 0.        , 0.        , 0.        , 0.        , 0.        , 0.        , 0.        , 0.        , 0.        , 0.        , 0.        , 0.        , 0.        , 0.        , 0.        ],\n",
       "       [0.        , 0.        , 0.        , 0.        , 0.        , 0.        , 0.        , 0.        , 0.        , 0.        , 0.        , 0.        , 0.        , 0.        , 0.        , 0.        , 0.        , 0.        , 0.        , 0.        ],\n",
       "       [0.        , 0.        , 0.        , 0.        , 0.        , 0.        , 0.        , 0.        , 0.        , 0.        , 0.        , 0.        , 0.        , 0.        , 0.        , 0.        , 0.        , 0.        , 0.        , 0.        ],\n",
       "       [0.        , 0.        , 0.        , 0.        , 0.        , 0.        , 0.        , 0.        , 0.        , 0.        , 0.        , 0.        , 0.        , 0.        , 0.        , 0.        , 0.        , 0.        , 0.        , 0.        ],\n",
       "       [0.        , 0.        , 0.        , 0.        , 0.        , 0.        , 0.        , 0.        , 0.        , 0.        , 0.        , 0.        , 0.        , 0.        , 0.        , 0.        , 0.        , 0.        , 0.        , 0.        ]], dtype=float32)"
      ]
     },
     "execution_count": 389,
     "metadata": {},
     "output_type": "execute_result"
    }
   ],
   "source": [
    "transposed_numeric_features[12,:,0]"
   ]
  },
  {
   "cell_type": "code",
   "execution_count": 390,
   "metadata": {},
   "outputs": [
    {
     "data": {
      "text/plain": [
       "array([[-0.01569275,  0.03015446, -0.03076373, -0.0099005 , -0.02991541, -0.0049784 , -0.01010493,  0.04242973,  0.00039001, -0.04287663, -0.02714549, -0.03437993,  0.01346191,  0.04728324, -0.02907998,  0.04132513,  0.04266026, -0.0353132 , -0.04441606,  0.04734592],\n",
       "       [ 0.00890996, -0.0341445 , -0.04862406,  0.04520292,  0.03099027, -0.03456464,  0.01701741,  0.00103032,  0.02376873, -0.03559972,  0.02013477,  0.02173717,  0.04978685, -0.0223687 , -0.00694632, -0.03658661, -0.04848915, -0.04540129, -0.00511377, -0.03251645],\n",
       "       [ 0.02424864, -0.03082013,  0.01259593,  0.0036972 , -0.01696077, -0.00489612,  0.04989563,  0.04572944, -0.02230915,  0.04541513, -0.02820882,  0.02965461, -0.01548609,  0.01715876,  0.01508613,  0.03450231, -0.01186942,  0.04387518,  0.03794714, -0.04773823],\n",
       "       [-0.04478499, -0.003676  ,  0.04076253,  0.03845215, -0.03603058, -0.01833416,  0.01559276, -0.04785361,  0.0073822 ,  0.03262233,  0.0287321 , -0.04381531, -0.02258572, -0.0407008 ,  0.00022978,  0.04631817,  0.02986653,  0.02533654,  0.02530531, -0.01621458],\n",
       "       [ 0.04776092, -0.03678212, -0.03635194, -0.01132694, -0.0038928 , -0.01608052, -0.00296293,  0.03744411, -0.00348759, -0.0081247 ,  0.013722  , -0.0417955 ,  0.03927902,  0.04268052, -0.04792044,  0.01223133,  0.04952485, -0.03832902, -0.03483459, -0.03868259],\n",
       "       [ 0.        ,  0.        ,  0.        ,  0.        ,  0.        ,  0.        ,  0.        ,  0.        ,  0.        ,  0.        ,  0.        ,  0.        ,  0.        ,  0.        ,  0.        ,  0.        ,  0.        ,  0.        ,  0.        ,  0.        ],\n",
       "       [ 0.        ,  0.        ,  0.        ,  0.        ,  0.        ,  0.        ,  0.        ,  0.        ,  0.        ,  0.        ,  0.        ,  0.        ,  0.        ,  0.        ,  0.        ,  0.        ,  0.        ,  0.        ,  0.        ,  0.        ],\n",
       "       [ 0.        ,  0.        ,  0.        ,  0.        ,  0.        ,  0.        ,  0.        ,  0.        ,  0.        ,  0.        ,  0.        ,  0.        ,  0.        ,  0.        ,  0.        ,  0.        ,  0.        ,  0.        ,  0.        ,  0.        ],\n",
       "       [ 0.        ,  0.        ,  0.        ,  0.        ,  0.        ,  0.        ,  0.        ,  0.        ,  0.        ,  0.        ,  0.        ,  0.        ,  0.        ,  0.        ,  0.        ,  0.        ,  0.        ,  0.        ,  0.        ,  0.        ],\n",
       "       [ 0.        ,  0.        ,  0.        ,  0.        ,  0.        ,  0.        ,  0.        ,  0.        ,  0.        ,  0.        ,  0.        ,  0.        ,  0.        ,  0.        ,  0.        ,  0.        ,  0.        ,  0.        ,  0.        ,  0.        ],\n",
       "       [ 0.        ,  0.        ,  0.        ,  0.        ,  0.        ,  0.        ,  0.        ,  0.        ,  0.        ,  0.        ,  0.        ,  0.        ,  0.        ,  0.        ,  0.        ,  0.        ,  0.        ,  0.        ,  0.        ,  0.        ],\n",
       "       [ 0.        ,  0.        ,  0.        ,  0.        ,  0.        ,  0.        ,  0.        ,  0.        ,  0.        ,  0.        ,  0.        ,  0.        ,  0.        ,  0.        ,  0.        ,  0.        ,  0.        ,  0.        ,  0.        ,  0.        ],\n",
       "       [ 0.        ,  0.        ,  0.        ,  0.        ,  0.        ,  0.        ,  0.        ,  0.        ,  0.        ,  0.        ,  0.        ,  0.        ,  0.        ,  0.        ,  0.        ,  0.        ,  0.        ,  0.        ,  0.        ,  0.        ]], dtype=float32)"
      ]
     },
     "execution_count": 390,
     "metadata": {},
     "output_type": "execute_result"
    }
   ],
   "source": [
    "transposed_w2v_features[12,:,0]"
   ]
  },
  {
   "cell_type": "code",
   "execution_count": 391,
   "metadata": {},
   "outputs": [
    {
     "name": "stdout",
     "output_type": "stream",
     "text": [
      "Merged features shape: (35483, 13, 10, 20)\n"
     ]
    }
   ],
   "source": [
    "# Shapes of the input data\n",
    "num_traces, num_events, num_numeric_features, vector_size = transposed_numeric_features.shape\n",
    "_, _, num_w2v_features, _ = transposed_w2v_features.shape\n",
    "\n",
    "# Initialize the merged array\n",
    "merged_features = np.zeros((num_traces, num_events, num_numeric_features + num_w2v_features, vector_size))\n",
    "\n",
    "# Keep track of the current indices for numeric and w2v features\n",
    "numeric_index, w2v_index = 0, 0\n",
    "\n",
    "# Iterate over dataset.attribute_keys to place each feature in the correct order\n",
    "for i, key in enumerate(dataset.attribute_keys):\n",
    "    # print(key)\n",
    "    if key in numeric_feature_names:\n",
    "        # print(\"Numeric feature shape:\", transposed_numeric_features[:, :, numeric_index, :].shape)\n",
    "        # print(\"Target shape:\", merged_features[:, :, i, :].shape)\n",
    "        # print(numeric_index)\n",
    "        # Place numeric feature in the merged array\n",
    "        merged_features[:, :, i, :] = transposed_numeric_features[:, :, numeric_index, :]\n",
    "        numeric_index += 1\n",
    "    elif key in w2v_feature_names:\n",
    "        # print(\"W2V feature shape:\", transposed_w2v_features[:, :, w2v_index, :].shape)\n",
    "        # print(\"Target shape:\", merged_features[:, :, i, :].shape)\n",
    "        # print(w2v_index)\n",
    "        # Place w2v feature in the merged array\n",
    "        merged_features[:, :, i, :] = transposed_w2v_features[:, :, w2v_index, :]\n",
    "        w2v_index += 1\n",
    "    else:\n",
    "        raise ValueError(f\"Unexpected attribute key '{key}' not found in either feature list.\")\n",
    "\n",
    "# The merged array now has features interlaced according to dataset.attribute_keys order\n",
    "print(\"Merged features shape:\", merged_features.shape)"
   ]
  },
  {
   "cell_type": "code",
   "execution_count": 392,
   "metadata": {},
   "outputs": [
    {
     "data": {
      "text/plain": [
       "array([2, 4, 5, 5, 5, 5, 3, 2, 3, 3])"
      ]
     },
     "execution_count": 392,
     "metadata": {},
     "output_type": "execute_result"
    }
   ],
   "source": [
    "dataset.case_lens[10:20]"
   ]
  },
  {
   "cell_type": "code",
   "execution_count": 393,
   "metadata": {},
   "outputs": [
    {
     "data": {
      "text/plain": [
       "array([[ 0.04776092, -0.03678212, -0.03635194, -0.01132694, -0.0038928 , -0.01608052, -0.00296293,  0.03744411, -0.00348759, -0.0081247 ,  0.013722  , -0.0417955 ,  0.03927902,  0.04268052, -0.04792044,  0.01223133,  0.04952485, -0.03832902, -0.03483459, -0.03868259],\n",
       "       [ 0.        ,  0.        ,  0.        ,  0.        ,  0.        ,  0.        ,  0.        ,  0.        ,  0.        ,  0.        ,  0.        ,  0.        ,  0.        ,  0.        ,  0.        ,  0.        ,  0.        ,  0.        ,  0.        ,  0.        ],\n",
       "       [-0.04801775,  0.02503647, -0.04379793, -0.02195913, -0.0001755 , -0.00148091, -0.0383062 ,  0.04807372,  0.02491029,  0.04616572, -0.04078959,  0.02247899, -0.02068538,  0.00412268,  0.0424931 , -0.02231088,  0.0225875 , -0.0339348 , -0.01774244,  0.04699254],\n",
       "       [ 0.00047282,  0.0153866 , -0.03406323, -0.00687733,  0.0383429 ,  0.03673205, -0.01836649,  0.01321351, -0.04158565,  0.03102743, -0.02318661, -0.01582053,  0.04655678,  0.00436693,  0.03745351, -0.03037031,  0.02580253,  0.04961411, -0.04228695, -0.02567846],\n",
       "       [ 0.00047282,  0.0153866 , -0.03406323, -0.00687733,  0.0383429 ,  0.03673205, -0.01836649,  0.01321351, -0.04158565,  0.03102743, -0.02318661, -0.01582053,  0.04655678,  0.00436693,  0.03745351, -0.03037031,  0.02580253,  0.04961411, -0.04228695, -0.02567846],\n",
       "       [ 0.        ,  0.        ,  0.        ,  0.        ,  0.        ,  0.        ,  0.        ,  0.        ,  0.        ,  0.        ,  0.        ,  0.        ,  0.        ,  0.        ,  0.        ,  0.        ,  0.        ,  0.        ,  0.        ,  0.        ],\n",
       "       [ 0.        ,  0.        ,  0.        ,  0.        ,  0.        ,  0.        ,  0.        ,  0.        ,  0.        ,  0.        ,  0.        ,  0.        ,  0.        ,  0.        ,  0.        ,  0.        ,  0.        ,  0.        ,  0.        ,  0.        ],\n",
       "       [ 0.        ,  0.        ,  0.        ,  0.        ,  0.        ,  0.        ,  0.        ,  0.        ,  0.        ,  0.        ,  0.        ,  0.        ,  0.        ,  0.        ,  0.        ,  0.        ,  0.        ,  0.        ,  0.        ,  0.        ],\n",
       "       [ 0.        ,  0.        ,  0.        ,  0.        ,  0.        ,  0.        ,  0.        ,  0.        ,  0.        ,  0.        ,  0.        ,  0.        ,  0.        ,  0.        ,  0.        ,  0.        ,  0.        ,  0.        ,  0.        ,  0.        ],\n",
       "       [-0.02578121, -0.03334169, -0.03888417,  0.04155364, -0.00991171, -0.03427482, -0.02077194,  0.02572063, -0.01434568, -0.0187483 ,  0.00810713, -0.01388147, -0.0079218 ,  0.00537246, -0.01488972,  0.04259641,  0.01955467, -0.04979432,  0.031298  , -0.03377127]])"
      ]
     },
     "execution_count": 393,
     "metadata": {},
     "output_type": "execute_result"
    }
   ],
   "source": [
    "merged_features[12][4]"
   ]
  },
  {
   "cell_type": "code",
   "execution_count": 394,
   "metadata": {},
   "outputs": [],
   "source": [
    "zero_event = np.zeros((num_numeric_features + num_w2v_features, vector_size))\n",
    "\n",
    "trainX = []\n",
    "trainY = []\n",
    "for case, length in zip(merged_features, dataset.case_lens):\n",
    "    last_event_index = length - 1\n",
    "    trainY.append(case[length - 1].copy())\n",
    "\n",
    "    # Remove the target event from the training data\n",
    "    case[length - 1] = zero_event\n",
    "    trainX.append(case)\n",
    "\n",
    "trainX = np.array(trainX)\n",
    "trainY = np.array(trainY)"
   ]
  },
  {
   "cell_type": "code",
   "execution_count": 411,
   "metadata": {},
   "outputs": [
    {
     "data": {
      "text/plain": [
       "(35483, 13, 10, 20)"
      ]
     },
     "execution_count": 411,
     "metadata": {},
     "output_type": "execute_result"
    }
   ],
   "source": [
    "trainX.shape"
   ]
  },
  {
   "cell_type": "code",
   "execution_count": 395,
   "metadata": {},
   "outputs": [
    {
     "data": {
      "text/plain": [
       "(35483, 10, 20)"
      ]
     },
     "execution_count": 395,
     "metadata": {},
     "output_type": "execute_result"
    }
   ],
   "source": [
    "trainY.shape"
   ]
  },
  {
   "cell_type": "code",
   "execution_count": 402,
   "metadata": {},
   "outputs": [
    {
     "data": {
      "text/plain": [
       "array([[ 8.90995841e-03, -3.41444984e-02, -4.86240573e-02,  4.52029221e-02,  3.09902728e-02, -3.45646366e-02,  1.70174129e-02,  1.03031995e-03,  2.37687286e-02, -3.55997160e-02,  2.01347712e-02,  2.17371695e-02,  4.97868471e-02, -2.23686993e-02, -6.94631925e-03, -3.65866050e-02, -4.84891459e-02,\n",
       "        -4.54012863e-02, -5.11377444e-03, -3.25164497e-02],\n",
       "       [ 0.00000000e+00,  0.00000000e+00,  0.00000000e+00,  0.00000000e+00,  0.00000000e+00,  0.00000000e+00,  0.00000000e+00,  0.00000000e+00,  0.00000000e+00,  0.00000000e+00,  0.00000000e+00,  0.00000000e+00,  0.00000000e+00,  0.00000000e+00,  0.00000000e+00,  0.00000000e+00,  0.00000000e+00,\n",
       "         0.00000000e+00,  0.00000000e+00,  0.00000000e+00],\n",
       "       [-4.30984385e-02,  1.83286909e-02,  2.59494185e-02,  2.87096910e-02,  3.73345912e-02, -3.08383759e-02,  5.52806864e-03,  3.02364118e-02, -1.42002525e-02, -3.08676120e-02, -2.05111504e-03, -4.18447442e-02, -2.80000623e-02,  3.55226919e-02,  1.67626981e-02,  3.61283496e-02,  3.40012386e-02,\n",
       "         3.76537070e-02, -1.89457722e-02, -2.80902977e-03],\n",
       "       [-4.28278465e-03,  1.41328154e-02,  2.70071439e-02,  3.52632813e-02, -2.85156071e-02,  9.29409824e-03,  3.04443184e-02, -2.39902548e-02, -1.55363027e-02,  3.39881480e-02,  8.15737806e-03,  9.49585461e-04,  1.73681863e-02,  1.08888745e-03,  4.80941311e-02,  2.53030173e-02, -4.45869491e-02,\n",
       "        -3.52078006e-02,  4.50727949e-03,  3.19626704e-02],\n",
       "       [ 1.17418822e-02, -2.25951616e-02,  4.19436581e-02, -4.92908172e-02,  3.38232033e-02,  1.45720840e-02, -2.46641580e-02,  2.19909362e-02, -8.69787298e-03,  3.35569195e-02,  4.98242490e-02, -2.18122192e-02, -2.99668917e-03, -2.84781866e-02,  1.92541126e-02,  1.39331343e-02,  3.44553813e-02,\n",
       "         3.05054784e-02,  4.76924852e-02,  4.63670865e-02],\n",
       "       [ 6.37728393e-01,  9.82435048e-01,  8.75734925e-01,  3.66654426e-01, -3.10895532e-01, -8.45596015e-01, -9.91764188e-01, -6.82239175e-01, -5.92406280e-02,  5.90977609e-01,  7.70261288e-01,  1.86604917e-01, -4.82792199e-01, -9.30357218e-01, -9.50444102e-01, -5.33823371e-01,  1.28077120e-01,\n",
       "         7.31129050e-01,  9.98243749e-01,  8.06687951e-01],\n",
       "       [ 4.48799193e-01,  8.02123189e-01,  9.84807730e-01,  9.57989514e-01,  7.27373660e-01,  3.42020154e-01, -1.16092913e-01, -5.49508989e-01, -8.66025388e-01, -9.98308182e-01,  8.93632650e-01,  5.97158611e-01,  1.73648179e-01, -2.86803246e-01, -6.86241627e-01, -9.39692616e-01, -9.93238330e-01,\n",
       "        -8.35487783e-01, -5.00000000e-01, -5.81448302e-02],\n",
       "       [ 7.27373660e-01,  9.98308182e-01,  6.42787635e-01, -1.16092913e-01, -8.02123189e-01, -9.84807730e-01, -5.49508989e-01,  2.30615869e-01,  8.66025388e-01,  9.57989514e-01,  6.86241627e-01, -5.81448302e-02, -7.66044438e-01, -9.93238330e-01, -5.97158611e-01,  1.73648179e-01,  8.35487783e-01,\n",
       "         9.73044872e-01,  5.00000000e-01, -2.86803246e-01],\n",
       "       [ 7.07106769e-01,  1.00000000e+00,  7.07106769e-01,  1.22464685e-16, -7.07106769e-01, -1.00000000e+00, -7.07106769e-01, -2.44929371e-16,  7.07106769e-01,  1.00000000e+00,  7.07106769e-01,  6.12323426e-17, -7.07106769e-01, -1.00000000e+00, -7.07106769e-01, -1.83697015e-16,  7.07106769e-01,\n",
       "         1.00000000e+00,  7.07106769e-01,  3.06161700e-16],\n",
       "       [-3.38667333e-02, -2.33834377e-03, -4.38386388e-02,  1.39471889e-02,  7.99297728e-03, -1.15984622e-02,  2.50189546e-02,  4.87439334e-02,  4.22713384e-02, -9.40112490e-03,  1.02907596e-02, -2.00184472e-02, -4.12070267e-02,  3.13897803e-02, -9.74590797e-03, -3.33102350e-03, -8.85665976e-03,\n",
       "        -2.26783268e-02,  2.03085486e-02, -2.13509016e-02]])"
      ]
     },
     "execution_count": 402,
     "metadata": {},
     "output_type": "execute_result"
    }
   ],
   "source": [
    "trainY[4]"
   ]
  },
  {
   "cell_type": "code",
   "execution_count": 413,
   "metadata": {},
   "outputs": [
    {
     "data": {
      "text/plain": [
       "array([[-0.01569275,  0.03015446, -0.03076373, -0.0099005 , -0.02991541, -0.0049784 , -0.01010493,  0.04242973,  0.00039001, -0.04287663, -0.02714549, -0.03437993,  0.01346191,  0.04728324, -0.02907998,  0.04132513,  0.04266026, -0.0353132 , -0.04441606,  0.04734592],\n",
       "       [ 0.        ,  0.        ,  0.        ,  0.        ,  0.        ,  0.        ,  0.        ,  0.        ,  0.        ,  0.        ,  0.        ,  0.        ,  0.        ,  0.        ,  0.        ,  0.        ,  0.        ,  0.        ,  0.        ,  0.        ],\n",
       "       [-0.04267167,  0.01603553, -0.02318999, -0.02544478,  0.01794809,  0.0268517 ,  0.03884757, -0.02883253,  0.0371668 ,  0.03312748, -0.018549  , -0.04372821,  0.02718734,  0.03254878, -0.00393775, -0.03354928, -0.03542963, -0.0124853 ,  0.02571627, -0.01832619],\n",
       "       [ 0.00386665, -0.04247889,  0.03904903,  0.04628646, -0.01371164,  0.00400112,  0.00373326,  0.02738943, -0.04303039,  0.00292228,  0.03434711,  0.01115797,  0.00562338, -0.04661078,  0.04241183, -0.03132064, -0.01496187,  0.01746893, -0.00386314,  0.00705646],\n",
       "       [ 0.00386665, -0.04247889,  0.03904903,  0.04628646, -0.01371164,  0.00400112,  0.00373326,  0.02738943, -0.04303039,  0.00292228,  0.03434711,  0.01115797,  0.00562338, -0.04661078,  0.04241183, -0.03132064, -0.01496187,  0.01746893, -0.00386314,  0.00705646],\n",
       "       [ 0.        ,  0.        ,  0.        ,  0.        ,  0.        ,  0.        ,  0.        ,  0.        ,  0.        ,  0.        ,  0.        ,  0.        ,  0.        ,  0.        ,  0.        ,  0.        ,  0.        ,  0.        ,  0.        ,  0.        ],\n",
       "       [ 0.        ,  0.        ,  0.        ,  0.        ,  0.        ,  0.        ,  0.        ,  0.        ,  0.        ,  0.        ,  0.        ,  0.        ,  0.        ,  0.        ,  0.        ,  0.        ,  0.        ,  0.        ,  0.        ,  0.        ],\n",
       "       [ 0.        ,  0.        ,  0.        ,  0.        ,  0.        ,  0.        ,  0.        ,  0.        ,  0.        ,  0.        ,  0.        ,  0.        ,  0.        ,  0.        ,  0.        ,  0.        ,  0.        ,  0.        ,  0.        ,  0.        ],\n",
       "       [ 0.        ,  0.        ,  0.        ,  0.        ,  0.        ,  0.        ,  0.        ,  0.        ,  0.        ,  0.        ,  0.        ,  0.        ,  0.        ,  0.        ,  0.        ,  0.        ,  0.        ,  0.        ,  0.        ,  0.        ],\n",
       "       [-0.00692248, -0.02313111,  0.02904655, -0.01169006, -0.02382033, -0.04737557, -0.00600157, -0.03598885, -0.00842609, -0.02034912, -0.01187068, -0.01624168, -0.04078236, -0.00624205,  0.00845472, -0.02023822, -0.03820726, -0.01793318, -0.04523567, -0.00379213]])"
      ]
     },
     "execution_count": 413,
     "metadata": {},
     "output_type": "execute_result"
    }
   ],
   "source": [
    "trainX[4,0]"
   ]
  },
  {
   "cell_type": "code",
   "execution_count": 249,
   "metadata": {},
   "outputs": [
    {
     "name": "stdout",
     "output_type": "stream",
     "text": [
      "X Length: (9000, 7)\n"
     ]
    },
    {
     "ename": "TypeError",
     "evalue": "__init__() takes 11 positional arguments but 12 were given",
     "output_type": "error",
     "traceback": [
      "\u001b[1;31m---------------------------------------------------------------------------\u001b[0m",
      "\u001b[1;31mTypeError\u001b[0m                                 Traceback (most recent call last)",
      "Cell \u001b[1;32mIn [249], line 30\u001b[0m\n\u001b[0;32m     27\u001b[0m train_dataset \u001b[38;5;241m=\u001b[39m train_dataset\u001b[38;5;241m.\u001b[39mbatch(batch_size)\n\u001b[0;32m     29\u001b[0m \u001b[38;5;66;03m# Create model\u001b[39;00m\n\u001b[1;32m---> 30\u001b[0m training_model \u001b[38;5;241m=\u001b[39m \u001b[43mTransformerModel\u001b[49m\u001b[43m(\u001b[49m\u001b[43menc_vocab_size\u001b[49m\u001b[43m,\u001b[49m\u001b[43m \u001b[49m\u001b[43mdec_vocab_size\u001b[49m\u001b[43m,\u001b[49m\u001b[43m \u001b[49m\u001b[43menc_seq_length\u001b[49m\u001b[43m,\u001b[49m\u001b[43m \u001b[49m\u001b[43mdec_seq_length\u001b[49m\u001b[43m,\u001b[49m\u001b[43m \u001b[49m\u001b[43mh\u001b[49m\u001b[43m,\u001b[49m\u001b[43m \u001b[49m\u001b[43md_k\u001b[49m\u001b[43m,\u001b[49m\u001b[43m \u001b[49m\u001b[43md_v\u001b[49m\u001b[43m,\u001b[49m\u001b[43m \u001b[49m\u001b[43md_model\u001b[49m\u001b[43m,\u001b[49m\u001b[43m \u001b[49m\u001b[43md_ff\u001b[49m\u001b[43m,\u001b[49m\u001b[43m \u001b[49m\u001b[43mn\u001b[49m\u001b[43m,\u001b[49m\u001b[43m \u001b[49m\u001b[43mdropout_rate\u001b[49m\u001b[43m)\u001b[49m\n\u001b[0;32m     32\u001b[0m \u001b[38;5;66;03m# Include metrics monitoring\u001b[39;00m\n\u001b[0;32m     33\u001b[0m train_loss \u001b[38;5;241m=\u001b[39m Mean(name\u001b[38;5;241m=\u001b[39m\u001b[38;5;124m'\u001b[39m\u001b[38;5;124mtrain_loss\u001b[39m\u001b[38;5;124m'\u001b[39m)\n",
      "\u001b[1;31mTypeError\u001b[0m: __init__() takes 11 positional arguments but 12 were given"
     ]
    }
   ],
   "source": [
    "# Define the model parameters\n",
    "\n",
    "h = 8  # Number of self-attention heads\n",
    "d_k = 64  # Dimensionality of the linearly projected queries and keys\n",
    "d_v = 64  # Dimensionality of the linearly projected values\n",
    "d_model = 512  # Dimensionality of model layers' outputs\n",
    "d_ff = 2048  # Dimensionality of the inner fully connected layer\n",
    "n = 6  # Number of layers in the encoder stack\n",
    "\n",
    "# Define the training parameters\n",
    "batch_size = 8\n",
    "beta_1 = 0.9\n",
    "beta_2 = 0.98\n",
    "epsilon = 1e-9\n",
    "dropout_rate = 0.1\n",
    "\n",
    "# Instantiate an Adam optimizer\n",
    "optimizer = Adam(LRScheduler(d_model), beta_1, beta_2, epsilon)\n",
    "\n",
    "# Prepare the training and test splits of the dataset\n",
    "dataset = PrepareDataset()\n",
    "trainX, trainY, train_orig, enc_seq_length, dec_seq_length, enc_vocab_size, dec_vocab_size = dataset('english-german-both.pkl')\n",
    "print(f'X Length: {trainX.shape}')\n",
    "\n",
    "# Prepare the dataset batches\n",
    "train_dataset = data.Dataset.from_tensor_slices((trainX, trainY))\n",
    "train_dataset = train_dataset.batch(batch_size)\n",
    "\n",
    "# Create model\n",
    "training_model = TransformerModel(enc_vocab_size, dec_vocab_size, enc_seq_length, dec_seq_length, h, d_k, d_v, d_model, d_ff, n, dropout_rate)\n",
    "\n",
    "# Include metrics monitoring\n",
    "train_loss = Mean(name='train_loss')\n",
    "train_accuracy = Mean(name='train_accuracy')\n",
    "train_likelihood = Mean(name='train_likelihood')\n",
    "\n",
    "# Create a checkpoint object and manager to manage multiple checkpoints\n",
    "ckpt = train.Checkpoint(model=training_model, optimizer=optimizer)\n",
    "ckpt_manager = train.CheckpointManager(ckpt, \"./checkpoints\", max_to_keep=3)\n",
    "\n",
    "predictions = []\n",
    "targets = []\n",
    "losses = []\n",
    "\n",
    "# Speeding up the training process\n",
    "@function\n",
    "def train_step(encoder_input, decoder_input, decoder_output):\n",
    "    with GradientTape() as tape:\n",
    "        prediction = training_model(encoder_input, decoder_input, training=True)\n",
    "\n",
    "        loss = loss_fcn(decoder_output, prediction)\n",
    "        accuracy = accuracy_fcn(decoder_output, prediction)\n",
    "        likelihood = likelihood_fcn(decoder_output, prediction)\n",
    "\n",
    "    gradients = tape.gradient(loss, training_model.trainable_weights)\n",
    "    optimizer.apply_gradients(zip(gradients, training_model.trainable_weights))\n",
    "\n",
    "    train_loss(loss)\n",
    "    train_accuracy(accuracy)\n",
    "    train_likelihood(likelihood)\n",
    "\n",
    "    return loss, prediction, decoder_output\n",
    "\n",
    "train_loss.reset_states()\n",
    "train_accuracy.reset_states()\n",
    "train_likelihood.reset_states()\n",
    "\n",
    "print(f\"\\nStart of training in {len(train_dataset)} batches\")\n",
    "\n",
    "start_time = time()\n",
    "\n",
    "for step, (train_batchX, train_batchY) in enumerate(train_dataset):\n",
    "    encoder_input = train_batchX[:, 1:]\n",
    "    decoder_input = train_batchY[:, :-1]\n",
    "    decoder_output = train_batchY[:, 1:]\n",
    "\n",
    "    loss, prediction, target = train_step(encoder_input, decoder_input, decoder_output)\n",
    "\n",
    "    losses.append(loss.numpy())\n",
    "    predictions.append(prediction.numpy())\n",
    "    targets.append(decoder_output.numpy())\n",
    "\n",
    "    if step % 25 == 0:\n",
    "        print(f'Step {step} Loss {train_loss.result():.4f} Accuracy {train_accuracy.result():.4f} Likelihood {train_likelihood.result():.4f}')\n",
    "\n",
    "# Print epoch number and loss value at the end of every epoch\n",
    "print(\"Training Loss %.4f, Training Accuracy %.4f, Training Likelihood %.4f\" % (train_loss.result(), train_accuracy.result(), train_likelihood.result()))\n",
    "\n",
    "print(\"Total time taken: %.2fs\" % (time() - start_time))"
   ]
  },
  {
   "cell_type": "code",
   "execution_count": null,
   "metadata": {},
   "outputs": [],
   "source": [
    "len(predictions)"
   ]
  },
  {
   "cell_type": "code",
   "execution_count": null,
   "metadata": {},
   "outputs": [],
   "source": [
    "predictions[0].shape"
   ]
  },
  {
   "cell_type": "code",
   "execution_count": null,
   "metadata": {},
   "outputs": [],
   "source": [
    "targets[0].shape"
   ]
  },
  {
   "cell_type": "code",
   "execution_count": null,
   "metadata": {},
   "outputs": [],
   "source": [
    "print(losses)"
   ]
  },
  {
   "cell_type": "code",
   "execution_count": null,
   "metadata": {},
   "outputs": [],
   "source": [
    "import matplotlib.pyplot as plt\n",
    "\n",
    "plt.figure(figsize=(10, 6))\n",
    "plt.plot(losses, label='Training Loss')\n",
    "plt.xlabel('Batches')\n",
    "plt.ylabel('Loss Value')\n",
    "plt.title('Training Loss Over Time')\n",
    "plt.legend()\n",
    "plt.grid(True)\n",
    "plt.show()"
   ]
  }
 ],
 "metadata": {
  "kernelspec": {
   "display_name": "rcvdb-thesis-bpad",
   "language": "python",
   "name": "python3"
  },
  "language_info": {
   "codemirror_mode": {
    "name": "ipython",
    "version": 3
   },
   "file_extension": ".py",
   "mimetype": "text/x-python",
   "name": "python",
   "nbconvert_exporter": "python",
   "pygments_lexer": "ipython3",
   "version": "3.9.19"
  }
 },
 "nbformat": 4,
 "nbformat_minor": 2
}
