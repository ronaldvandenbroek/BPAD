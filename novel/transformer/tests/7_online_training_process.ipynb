{
 "cells": [
  {
   "cell_type": "code",
   "execution_count": 1,
   "metadata": {},
   "outputs": [],
   "source": [
    "# Ensure that local modules are reloaded when edited\n",
    "%load_ext autoreload\n",
    "%autoreload 2\n",
    "\n",
    "# Ensure that plots are displayed\n",
    "%matplotlib inline"
   ]
  },
  {
   "cell_type": "code",
   "execution_count": 2,
   "metadata": {},
   "outputs": [],
   "source": [
    "import sys\n",
    "import os\n",
    "sys.path.append(os.path.abspath(os.path.join(os.getcwd(), '../../..')))"
   ]
  },
  {
   "cell_type": "markdown",
   "metadata": {},
   "source": [
    "https://machinelearningmastery.com/training-the-transformer-model/"
   ]
  },
  {
   "cell_type": "code",
   "execution_count": 3,
   "metadata": {},
   "outputs": [],
   "source": [
    "from time import time"
   ]
  },
  {
   "cell_type": "code",
   "execution_count": 4,
   "metadata": {},
   "outputs": [
    {
     "name": "stderr",
     "output_type": "stream",
     "text": [
      "c:\\Users\\ronal\\miniconda3\\envs\\rcvdb-thesis-bpad\\lib\\site-packages\\tqdm\\auto.py:21: TqdmWarning: IProgress not found. Please update jupyter and ipywidgets. See https://ipywidgets.readthedocs.io/en/stable/user_install.html\n",
      "  from .autonotebook import tqdm as notebook_tqdm\n"
     ]
    },
    {
     "name": "stdout",
     "output_type": "stream",
     "text": [
      "EncodingNumerical.MIN_MAX_SCALING EncodingNumerical.MIN_MAX_SCALING\n",
      "0.0 81.0\n",
      "0.0 1.0\n",
      "EncodingNumerical.MIN_MAX_SCALING EncodingNumerical.MIN_MAX_SCALING\n",
      "0.0 159.0\n",
      "0.0 1.0\n",
      "EncodingNumerical.MIN_MAX_SCALING EncodingNumerical.MIN_MAX_SCALING\n",
      "0.0 27.0\n",
      "0.0 1.0\n",
      "EncodingNumerical.MIN_MAX_SCALING EncodingNumerical.MIN_MAX_SCALING\n",
      "0.0 54.0\n",
      "0.0 1.0\n",
      "EncodingNumerical.MIN_MAX_SCALING EncodingNumerical.MIN_MAX_SCALING\n",
      "0.0 12.0\n",
      "0.0 1.0\n",
      "Feature Columns: dict_keys(['name', 'arrival_time', 'company', 'country', 'department', 'global_workload_D', 'global_workload_h', 'local_workload_D', 'local_workload_h', 'user'])\n",
      "Feature Shape: (35483, 13)\n",
      "Case Length: [ 2  2  3 ...  8 10 10]\n",
      "Attribute Types: [<AttributeType.CATEGORICAL: 0>, <AttributeType.NUMERICAL: 1>, <AttributeType.CATEGORICAL: 0>, <AttributeType.CATEGORICAL: 0>, <AttributeType.CATEGORICAL: 0>, <AttributeType.NUMERICAL: 1>, <AttributeType.NUMERICAL: 1>, <AttributeType.NUMERICAL: 1>, <AttributeType.NUMERICAL: 1>, <AttributeType.CATEGORICAL: 0>]\n",
      "Encoders: {'name': AttributeDictionary (size=61, indexes=[3,64], reserved=74), 'company': AttributeDictionary (size=7, indexes=[80,87], reserved=-71), 'country': AttributeDictionary (size=17, indexes=[89,106], reserved=-67), 'department': AttributeDictionary (size=17, indexes=[111,128], reserved=-89), 'user': AttributeDictionary (size=102, indexes=[133,235], reserved=-5)}\n",
      "Attribute Labels shape: (35483, 13, 10, 4)\n",
      "Event Labels shape: (35483, 13, 4)\n",
      "Case Labels shape: (35483, 4)\n"
     ]
    }
   ],
   "source": [
    "from utils.dataset import Dataset\n",
    "from utils.enums import EncodingCategorical, EncodingNumerical\n",
    "\n",
    "dataset_name='medium_debug_v2-0.15-4_1.json.gz'\n",
    "prefix=True\n",
    "pretrain_percentage=0.0\n",
    "w2v_vector_size=20\n",
    "w2v_window_size=4\n",
    "categorical_encoding=EncodingCategorical.WORD_2_VEC\n",
    "numerical_encoding=EncodingNumerical.MIN_MAX_SCALING\n",
    "fs_save=None\n",
    "\n",
    "dataset = Dataset(dataset_name, \n",
    "                      beta=0.005, \n",
    "                      prefix=prefix,\n",
    "                      pretrain_percentage=pretrain_percentage,\n",
    "                      w2v_vector_size=w2v_vector_size,\n",
    "                      w2v_window_size=w2v_window_size, \n",
    "                      categorical_encoding=categorical_encoding,\n",
    "                      numerical_encoding=numerical_encoding,\n",
    "                      fs_save=fs_save)"
   ]
  },
  {
   "cell_type": "markdown",
   "metadata": {},
   "source": [
    "# W2V Encoding"
   ]
  },
  {
   "cell_type": "code",
   "execution_count": 5,
   "metadata": {},
   "outputs": [],
   "source": [
    "from utils.embedding.w2v import ProcessWord2Vec\n",
    "import numpy as np"
   ]
  },
  {
   "cell_type": "code",
   "execution_count": 6,
   "metadata": {},
   "outputs": [
    {
     "data": {
      "text/plain": [
       "array([2, 2, 3, 3, 2, 2, 2, 2, 2, 3, 2, 4, 5, 5, 5, 5, 3, 2, 3, 3])"
      ]
     },
     "execution_count": 6,
     "metadata": {},
     "output_type": "execute_result"
    }
   ],
   "source": [
    "dataset.case_lens[0:20]"
   ]
  },
  {
   "cell_type": "code",
   "execution_count": 7,
   "metadata": {},
   "outputs": [
    {
     "data": {
      "text/plain": [
       "5.491164783135586"
      ]
     },
     "execution_count": 7,
     "metadata": {},
     "output_type": "execute_result"
    }
   ],
   "source": [
    "np.mean(dataset.case_lens)"
   ]
  },
  {
   "cell_type": "code",
   "execution_count": 8,
   "metadata": {},
   "outputs": [
    {
     "data": {
      "text/plain": [
       "(35483, 13)"
      ]
     },
     "execution_count": 8,
     "metadata": {},
     "output_type": "execute_result"
    }
   ],
   "source": [
    "dataset.features[0].shape"
   ]
  },
  {
   "cell_type": "code",
   "execution_count": 9,
   "metadata": {},
   "outputs": [
    {
     "data": {
      "text/plain": [
       "array([[ 1., 82.,  0.,  0.,  0.,  0.,  0.,  0.,  0.,  0.,  0.,  0.,  0.],\n",
       "       [ 1., 82.,  0.,  0.,  0.,  0.,  0.,  0.,  0.,  0.,  0.,  0.,  0.],\n",
       "       [ 1., 82., 83.,  0.,  0.,  0.,  0.,  0.,  0.,  0.,  0.,  0.,  0.],\n",
       "       [ 1., 82., 83.,  0.,  0.,  0.,  0.,  0.,  0.,  0.,  0.,  0.,  0.],\n",
       "       [ 1., 84.,  0.,  0.,  0.,  0.,  0.,  0.,  0.,  0.,  0.,  0.,  0.],\n",
       "       [ 1., 82.,  0.,  0.,  0.,  0.,  0.,  0.,  0.,  0.,  0.,  0.,  0.],\n",
       "       [ 1., 84.,  0.,  0.,  0.,  0.,  0.,  0.,  0.,  0.,  0.,  0.,  0.],\n",
       "       [ 1., 84.,  0.,  0.,  0.,  0.,  0.,  0.,  0.,  0.,  0.,  0.,  0.],\n",
       "       [ 1., 82.,  0.,  0.,  0.,  0.,  0.,  0.,  0.,  0.,  0.,  0.,  0.],\n",
       "       [ 1., 84., 85.,  0.,  0.,  0.,  0.,  0.,  0.,  0.,  0.,  0.,  0.],\n",
       "       [ 1., 84.,  0.,  0.,  0.,  0.,  0.,  0.,  0.,  0.,  0.,  0.,  0.],\n",
       "       [ 1., 84., 85., 85.,  0.,  0.,  0.,  0.,  0.,  0.,  0.,  0.,  0.],\n",
       "       [ 1., 82., 83., 86.,  2.,  0.,  0.,  0.,  0.,  0.,  0.,  0.,  0.],\n",
       "       [ 1., 82., 83., 86.,  2.,  0.,  0.,  0.,  0.,  0.,  0.,  0.,  0.],\n",
       "       [ 1., 82., 83., 86.,  2.,  0.,  0.,  0.,  0.,  0.,  0.,  0.,  0.],\n",
       "       [ 1., 82., 83., 86.,  2.,  0.,  0.,  0.,  0.,  0.,  0.,  0.,  0.],\n",
       "       [ 1., 84., 82.,  0.,  0.,  0.,  0.,  0.,  0.,  0.,  0.,  0.,  0.],\n",
       "       [ 1., 84.,  0.,  0.,  0.,  0.,  0.,  0.,  0.,  0.,  0.,  0.,  0.],\n",
       "       [ 1., 82., 83.,  0.,  0.,  0.,  0.,  0.,  0.,  0.,  0.,  0.,  0.],\n",
       "       [ 1., 84., 85.,  0.,  0.,  0.,  0.,  0.,  0.,  0.,  0.,  0.,  0.]])"
      ]
     },
     "execution_count": 9,
     "metadata": {},
     "output_type": "execute_result"
    }
   ],
   "source": [
    "np.set_printoptions(linewidth=200)\n",
    "dataset.features[2][0:20]"
   ]
  },
  {
   "cell_type": "code",
   "execution_count": 10,
   "metadata": {},
   "outputs": [
    {
     "data": {
      "text/plain": [
       "array([[0.        , 0.01886792, 0.        , 0.        , 0.        , 0.        , 0.        , 0.        , 0.        , 0.        , 0.        , 0.        , 0.        ],\n",
       "       [0.        , 0.01886792, 0.        , 0.        , 0.        , 0.        , 0.        , 0.        , 0.        , 0.        , 0.        , 0.        , 0.        ],\n",
       "       [0.        , 0.01886792, 0.01886792, 0.        , 0.        , 0.        , 0.        , 0.        , 0.        , 0.        , 0.        , 0.        , 0.        ],\n",
       "       [0.        , 0.01886792, 0.22012579, 0.        , 0.        , 0.        , 0.        , 0.        , 0.        , 0.        , 0.        , 0.        , 0.        ],\n",
       "       [0.        , 0.22012579, 0.        , 0.        , 0.        , 0.        , 0.        , 0.        , 0.        , 0.        , 0.        , 0.        , 0.        ],\n",
       "       [0.        , 0.22012579, 0.        , 0.        , 0.        , 0.        , 0.        , 0.        , 0.        , 0.        , 0.        , 0.        , 0.        ],\n",
       "       [0.        , 0.22012579, 0.        , 0.        , 0.        , 0.        , 0.        , 0.        , 0.        , 0.        , 0.        , 0.        , 0.        ],\n",
       "       [0.        , 0.22012579, 0.        , 0.        , 0.        , 0.        , 0.        , 0.        , 0.        , 0.        , 0.        , 0.        , 0.        ],\n",
       "       [0.        , 0.22012579, 0.        , 0.        , 0.        , 0.        , 0.        , 0.        , 0.        , 0.        , 0.        , 0.        , 0.        ],\n",
       "       [0.        , 0.22012579, 0.22012579, 0.        , 0.        , 0.        , 0.        , 0.        , 0.        , 0.        , 0.        , 0.        , 0.        ],\n",
       "       [0.        , 0.22012579, 0.        , 0.        , 0.        , 0.        , 0.        , 0.        , 0.        , 0.        , 0.        , 0.        , 0.        ],\n",
       "       [0.        , 0.22012579, 0.22012579, 0.22012579, 0.        , 0.        , 0.        , 0.        , 0.        , 0.        , 0.        , 0.        , 0.        ],\n",
       "       [0.        , 0.01886792, 0.01886792, 0.22012579, 0.        , 0.        , 0.        , 0.        , 0.        , 0.        , 0.        , 0.        , 0.        ],\n",
       "       [0.        , 0.01886792, 0.01886792, 0.22012579, 0.        , 0.        , 0.        , 0.        , 0.        , 0.        , 0.        , 0.        , 0.        ],\n",
       "       [0.        , 0.01886792, 0.22012579, 0.22012579, 0.        , 0.        , 0.        , 0.        , 0.        , 0.        , 0.        , 0.        , 0.        ],\n",
       "       [0.        , 0.01886792, 0.22012579, 0.22012579, 0.        , 0.        , 0.        , 0.        , 0.        , 0.        , 0.        , 0.        , 0.        ],\n",
       "       [0.        , 0.22012579, 0.22012579, 0.        , 0.        , 0.        , 0.        , 0.        , 0.        , 0.        , 0.        , 0.        , 0.        ],\n",
       "       [0.        , 0.22012579, 0.        , 0.        , 0.        , 0.        , 0.        , 0.        , 0.        , 0.        , 0.        , 0.        , 0.        ],\n",
       "       [0.        , 0.22012579, 0.22012579, 0.        , 0.        , 0.        , 0.        , 0.        , 0.        , 0.        , 0.        , 0.        , 0.        ],\n",
       "       [0.        , 0.22012579, 0.22012579, 0.        , 0.        , 0.        , 0.        , 0.        , 0.        , 0.        , 0.        , 0.        , 0.        ]])"
      ]
     },
     "execution_count": 10,
     "metadata": {},
     "output_type": "execute_result"
    }
   ],
   "source": [
    "np.set_printoptions(linewidth=300)\n",
    "dataset.features[5][0:20]"
   ]
  },
  {
   "cell_type": "code",
   "execution_count": 11,
   "metadata": {},
   "outputs": [],
   "source": [
    "w2v_encoder = ProcessWord2Vec(\n",
    "            encoders=dataset.encoders,\n",
    "            pretrain_percentage=dataset.pretrain_percentage,\n",
    "            attribute_types=dataset.attribute_types,\n",
    "            event_attribute_keys=dataset.event_log.event_attribute_keys,\n",
    "            features=dataset._features,\n",
    "            event_log=dataset.event_log,\n",
    "            vector_size=dataset.w2v_vector_size,\n",
    "            window=dataset.w2v_window_size,\n",
    "            fs_save=dataset.fs_save) "
   ]
  },
  {
   "cell_type": "code",
   "execution_count": 12,
   "metadata": {},
   "outputs": [],
   "source": [
    "w2v_features, numeric_features, numeric_feature_names, w2v_feature_names = w2v_encoder.encode_features(average=False, match_numerical=True)"
   ]
  },
  {
   "cell_type": "code",
   "execution_count": 13,
   "metadata": {},
   "outputs": [
    {
     "name": "stdout",
     "output_type": "stream",
     "text": [
      "(5, 35483, 13, 20)\n",
      "(35483, 13, 5, 20)\n"
     ]
    }
   ],
   "source": [
    "# (num_attribute, num_cases, num_events, vector_size) \n",
    "print(w2v_features.shape)\n",
    "transposed_w2v_features = np.transpose(w2v_features, (1, 2, 0, 3))\n",
    "print(transposed_w2v_features.shape)"
   ]
  },
  {
   "cell_type": "code",
   "execution_count": 14,
   "metadata": {},
   "outputs": [
    {
     "name": "stdout",
     "output_type": "stream",
     "text": [
      "(5, 35483, 13, 20)\n",
      "(35483, 13, 5, 20)\n"
     ]
    }
   ],
   "source": [
    "print(numeric_features.shape)\n",
    "transposed_numeric_features = np.transpose(numeric_features, (1, 2, 0, 3))\n",
    "print(transposed_numeric_features.shape)"
   ]
  },
  {
   "cell_type": "code",
   "execution_count": 15,
   "metadata": {},
   "outputs": [
    {
     "data": {
      "text/plain": [
       "5"
      ]
     },
     "execution_count": 15,
     "metadata": {},
     "output_type": "execute_result"
    }
   ],
   "source": [
    "dataset.case_lens[13]"
   ]
  },
  {
   "cell_type": "code",
   "execution_count": 16,
   "metadata": {},
   "outputs": [
    {
     "data": {
      "text/plain": [
       "array([[0.        , 0.        , 0.        , 0.        , 0.        , 0.        , 0.        , 0.        , 0.        , 0.        , 0.        , 0.        , 0.        , 0.        , 0.        , 0.        , 0.        , 0.        , 0.        , 0.        ],\n",
       "       [0.        , 0.        , 0.        , 0.        , 0.        , 0.        , 0.        , 0.        , 0.        , 0.        , 0.        , 0.        , 0.        , 0.        , 0.        , 0.        , 0.        , 0.        , 0.        , 0.        ],\n",
       "       [0.07749242, 0.1545188 , 0.23061587, 0.30532598, 0.37819985, 0.4487992 , 0.5166994 , 0.58149207, 0.64278764, 0.70021737, 0.99699295, 0.98798984, 0.9730449 , 0.95224786, 0.92572397, 0.89363265, 0.8561669 , 0.8135521 , 0.76604444, 0.7139297 ],\n",
       "       [0.11609291, 0.23061587, 0.34202015, 0.4487992 , 0.549509  , 0.64278764, 0.72737366, 0.8021232 , 0.8660254 , 0.9182161 , 0.99323833, 0.9730449 , 0.9396926 , 0.89363265, 0.8354878 , 0.76604444, 0.6862416 , 0.5971586 , 0.5       , 0.39607978],\n",
       "       [0.        , 0.        , 0.        , 0.        , 0.        , 0.        , 0.        , 0.        , 0.        , 0.        , 0.        , 0.        , 0.        , 0.        , 0.        , 0.        , 0.        , 0.        , 0.        , 0.        ],\n",
       "       [0.        , 0.        , 0.        , 0.        , 0.        , 0.        , 0.        , 0.        , 0.        , 0.        , 0.        , 0.        , 0.        , 0.        , 0.        , 0.        , 0.        , 0.        , 0.        , 0.        ],\n",
       "       [0.        , 0.        , 0.        , 0.        , 0.        , 0.        , 0.        , 0.        , 0.        , 0.        , 0.        , 0.        , 0.        , 0.        , 0.        , 0.        , 0.        , 0.        , 0.        , 0.        ],\n",
       "       [0.        , 0.        , 0.        , 0.        , 0.        , 0.        , 0.        , 0.        , 0.        , 0.        , 0.        , 0.        , 0.        , 0.        , 0.        , 0.        , 0.        , 0.        , 0.        , 0.        ],\n",
       "       [0.        , 0.        , 0.        , 0.        , 0.        , 0.        , 0.        , 0.        , 0.        , 0.        , 0.        , 0.        , 0.        , 0.        , 0.        , 0.        , 0.        , 0.        , 0.        , 0.        ],\n",
       "       [0.        , 0.        , 0.        , 0.        , 0.        , 0.        , 0.        , 0.        , 0.        , 0.        , 0.        , 0.        , 0.        , 0.        , 0.        , 0.        , 0.        , 0.        , 0.        , 0.        ],\n",
       "       [0.        , 0.        , 0.        , 0.        , 0.        , 0.        , 0.        , 0.        , 0.        , 0.        , 0.        , 0.        , 0.        , 0.        , 0.        , 0.        , 0.        , 0.        , 0.        , 0.        ],\n",
       "       [0.        , 0.        , 0.        , 0.        , 0.        , 0.        , 0.        , 0.        , 0.        , 0.        , 0.        , 0.        , 0.        , 0.        , 0.        , 0.        , 0.        , 0.        , 0.        , 0.        ],\n",
       "       [0.        , 0.        , 0.        , 0.        , 0.        , 0.        , 0.        , 0.        , 0.        , 0.        , 0.        , 0.        , 0.        , 0.        , 0.        , 0.        , 0.        , 0.        , 0.        , 0.        ]], dtype=float32)"
      ]
     },
     "execution_count": 16,
     "metadata": {},
     "output_type": "execute_result"
    }
   ],
   "source": [
    "transposed_numeric_features[12,:,0]"
   ]
  },
  {
   "cell_type": "code",
   "execution_count": 17,
   "metadata": {},
   "outputs": [
    {
     "data": {
      "text/plain": [
       "array([[-0.01569275,  0.03015446, -0.03076373, -0.0099005 , -0.02991541, -0.0049784 , -0.01010493,  0.04242973,  0.00039001, -0.04287663, -0.02714549, -0.03437993,  0.01346191,  0.04728324, -0.02907998,  0.04132513,  0.04266026, -0.0353132 , -0.04441606,  0.04734592],\n",
       "       [ 0.02424864, -0.03082013,  0.01259593,  0.0036972 , -0.01696077, -0.00489612,  0.04989563,  0.04572944, -0.02230915,  0.04541513, -0.02820882,  0.02965461, -0.01548609,  0.01715876,  0.01508613,  0.03450231, -0.01186942,  0.04387518,  0.03794714, -0.04773823],\n",
       "       [-0.04004105, -0.03818948,  0.01461629, -0.01397361, -0.0346476 , -0.04064132,  0.0415459 ,  0.00995244, -0.04664009, -0.02396358,  0.01568369, -0.02356603,  0.02640421, -0.02116721,  0.01320898, -0.04022844,  0.03104943,  0.02409444,  0.00393596,  0.01506724],\n",
       "       [ 0.04776092, -0.03678212, -0.03635194, -0.01132694, -0.0038928 , -0.01608052, -0.00296293,  0.03744411, -0.00348759, -0.0081247 ,  0.013722  , -0.0417955 ,  0.03927902,  0.04268052, -0.04792044,  0.01223133,  0.04952485, -0.03832902, -0.03483459, -0.03868259],\n",
       "       [ 0.00890996, -0.0341445 , -0.04862406,  0.04520292,  0.03099027, -0.03456464,  0.01701741,  0.00103032,  0.02376873, -0.03559972,  0.02013477,  0.02173717,  0.04978685, -0.0223687 , -0.00694632, -0.03658661, -0.04848915, -0.04540129, -0.00511377, -0.03251645],\n",
       "       [ 0.        ,  0.        ,  0.        ,  0.        ,  0.        ,  0.        ,  0.        ,  0.        ,  0.        ,  0.        ,  0.        ,  0.        ,  0.        ,  0.        ,  0.        ,  0.        ,  0.        ,  0.        ,  0.        ,  0.        ],\n",
       "       [ 0.        ,  0.        ,  0.        ,  0.        ,  0.        ,  0.        ,  0.        ,  0.        ,  0.        ,  0.        ,  0.        ,  0.        ,  0.        ,  0.        ,  0.        ,  0.        ,  0.        ,  0.        ,  0.        ,  0.        ],\n",
       "       [ 0.        ,  0.        ,  0.        ,  0.        ,  0.        ,  0.        ,  0.        ,  0.        ,  0.        ,  0.        ,  0.        ,  0.        ,  0.        ,  0.        ,  0.        ,  0.        ,  0.        ,  0.        ,  0.        ,  0.        ],\n",
       "       [ 0.        ,  0.        ,  0.        ,  0.        ,  0.        ,  0.        ,  0.        ,  0.        ,  0.        ,  0.        ,  0.        ,  0.        ,  0.        ,  0.        ,  0.        ,  0.        ,  0.        ,  0.        ,  0.        ,  0.        ],\n",
       "       [ 0.        ,  0.        ,  0.        ,  0.        ,  0.        ,  0.        ,  0.        ,  0.        ,  0.        ,  0.        ,  0.        ,  0.        ,  0.        ,  0.        ,  0.        ,  0.        ,  0.        ,  0.        ,  0.        ,  0.        ],\n",
       "       [ 0.        ,  0.        ,  0.        ,  0.        ,  0.        ,  0.        ,  0.        ,  0.        ,  0.        ,  0.        ,  0.        ,  0.        ,  0.        ,  0.        ,  0.        ,  0.        ,  0.        ,  0.        ,  0.        ,  0.        ],\n",
       "       [ 0.        ,  0.        ,  0.        ,  0.        ,  0.        ,  0.        ,  0.        ,  0.        ,  0.        ,  0.        ,  0.        ,  0.        ,  0.        ,  0.        ,  0.        ,  0.        ,  0.        ,  0.        ,  0.        ,  0.        ],\n",
       "       [ 0.        ,  0.        ,  0.        ,  0.        ,  0.        ,  0.        ,  0.        ,  0.        ,  0.        ,  0.        ,  0.        ,  0.        ,  0.        ,  0.        ,  0.        ,  0.        ,  0.        ,  0.        ,  0.        ,  0.        ]], dtype=float32)"
      ]
     },
     "execution_count": 17,
     "metadata": {},
     "output_type": "execute_result"
    }
   ],
   "source": [
    "transposed_w2v_features[12,:,0]"
   ]
  },
  {
   "cell_type": "code",
   "execution_count": 18,
   "metadata": {},
   "outputs": [
    {
     "name": "stdout",
     "output_type": "stream",
     "text": [
      "Merged features shape: (35483, 13, 10, 20)\n"
     ]
    }
   ],
   "source": [
    "# Shapes of the input data\n",
    "num_traces, num_events, num_numeric_features, vector_size = transposed_numeric_features.shape\n",
    "_, _, num_w2v_features, _ = transposed_w2v_features.shape\n",
    "\n",
    "# Initialize the merged array\n",
    "merged_features = np.zeros((num_traces, num_events, num_numeric_features + num_w2v_features, vector_size))\n",
    "\n",
    "# Keep track of the current indices for numeric and w2v features\n",
    "numeric_index, w2v_index = 0, 0\n",
    "\n",
    "# Iterate over dataset.attribute_keys to place each feature in the correct order\n",
    "for i, key in enumerate(dataset.attribute_keys):\n",
    "    # print(key)\n",
    "    if key in numeric_feature_names:\n",
    "        # print(\"Numeric feature shape:\", transposed_numeric_features[:, :, numeric_index, :].shape)\n",
    "        # print(\"Target shape:\", merged_features[:, :, i, :].shape)\n",
    "        # print(numeric_index)\n",
    "        # Place numeric feature in the merged array\n",
    "        merged_features[:, :, i, :] = transposed_numeric_features[:, :, numeric_index, :]\n",
    "        numeric_index += 1\n",
    "    elif key in w2v_feature_names:\n",
    "        # print(\"W2V feature shape:\", transposed_w2v_features[:, :, w2v_index, :].shape)\n",
    "        # print(\"Target shape:\", merged_features[:, :, i, :].shape)\n",
    "        # print(w2v_index)\n",
    "        # Place w2v feature in the merged array\n",
    "        merged_features[:, :, i, :] = transposed_w2v_features[:, :, w2v_index, :]\n",
    "        w2v_index += 1\n",
    "    else:\n",
    "        raise ValueError(f\"Unexpected attribute key '{key}' not found in either feature list.\")\n",
    "\n",
    "# The merged array now has features interlaced according to dataset.attribute_keys order\n",
    "print(\"Merged features shape:\", merged_features.shape)"
   ]
  },
  {
   "cell_type": "code",
   "execution_count": 19,
   "metadata": {},
   "outputs": [
    {
     "data": {
      "text/plain": [
       "array([2, 4, 5, 5, 5, 5, 3, 2, 3, 3])"
      ]
     },
     "execution_count": 19,
     "metadata": {},
     "output_type": "execute_result"
    }
   ],
   "source": [
    "dataset.case_lens[10:20]"
   ]
  },
  {
   "cell_type": "code",
   "execution_count": 20,
   "metadata": {},
   "outputs": [
    {
     "data": {
      "text/plain": [
       "array([[ 0.00890996, -0.0341445 , -0.04862406,  0.04520292,  0.03099027, -0.03456464,  0.01701741,  0.00103032,  0.02376873, -0.03559972,  0.02013477,  0.02173717,  0.04978685, -0.0223687 , -0.00694632, -0.03658661, -0.04848915, -0.04540129, -0.00511377, -0.03251645],\n",
       "       [ 0.        ,  0.        ,  0.        ,  0.        ,  0.        ,  0.        ,  0.        ,  0.        ,  0.        ,  0.        ,  0.        ,  0.        ,  0.        ,  0.        ,  0.        ,  0.        ,  0.        ,  0.        ,  0.        ,  0.        ],\n",
       "       [ 0.03949034, -0.03494752, -0.04577933, -0.00177876, -0.0154992 ,  0.03947159,  0.02969287, -0.00772831,  0.00755482,  0.0089502 ,  0.03908785, -0.04755094, -0.00102766,  0.01734598, -0.00469486,  0.04190886,  0.04505392,  0.03268253, -0.00355811,  0.03855202],\n",
       "       [-0.04801775,  0.02503647, -0.04379793, -0.02195913, -0.0001755 , -0.00148091, -0.0383062 ,  0.04807372,  0.02491029,  0.04616572, -0.04078959,  0.02247899, -0.02068538,  0.00412268,  0.0424931 , -0.02231088,  0.0225875 , -0.0339348 , -0.01774244,  0.04699254],\n",
       "       [-0.04801775,  0.02503647, -0.04379793, -0.02195913, -0.0001755 , -0.00148091, -0.0383062 ,  0.04807372,  0.02491029,  0.04616572, -0.04078959,  0.02247899, -0.02068538,  0.00412268,  0.0424931 , -0.02231088,  0.0225875 , -0.0339348 , -0.01774244,  0.04699254],\n",
       "       [ 0.        ,  0.        ,  0.        ,  0.        ,  0.        ,  0.        ,  0.        ,  0.        ,  0.        ,  0.        ,  0.        ,  0.        ,  0.        ,  0.        ,  0.        ,  0.        ,  0.        ,  0.        ,  0.        ,  0.        ],\n",
       "       [ 0.        ,  0.        ,  0.        ,  0.        ,  0.        ,  0.        ,  0.        ,  0.        ,  0.        ,  0.        ,  0.        ,  0.        ,  0.        ,  0.        ,  0.        ,  0.        ,  0.        ,  0.        ,  0.        ,  0.        ],\n",
       "       [ 0.        ,  0.        ,  0.        ,  0.        ,  0.        ,  0.        ,  0.        ,  0.        ,  0.        ,  0.        ,  0.        ,  0.        ,  0.        ,  0.        ,  0.        ,  0.        ,  0.        ,  0.        ,  0.        ,  0.        ],\n",
       "       [ 0.        ,  0.        ,  0.        ,  0.        ,  0.        ,  0.        ,  0.        ,  0.        ,  0.        ,  0.        ,  0.        ,  0.        ,  0.        ,  0.        ,  0.        ,  0.        ,  0.        ,  0.        ,  0.        ,  0.        ],\n",
       "       [ 0.0408406 , -0.02221516,  0.04492717,  0.04126833, -0.02217611,  0.00151553,  0.02137246, -0.0196316 , -0.02779983, -0.03256161, -0.00335369, -0.00147961,  0.02231542, -0.01237027, -0.00086305,  0.01230938,  0.024338  , -0.00015404, -0.03169705, -0.04630404]])"
      ]
     },
     "execution_count": 20,
     "metadata": {},
     "output_type": "execute_result"
    }
   ],
   "source": [
    "merged_features[12][4]"
   ]
  },
  {
   "cell_type": "code",
   "execution_count": 21,
   "metadata": {},
   "outputs": [],
   "source": [
    "zero_event = np.zeros((num_numeric_features + num_w2v_features, vector_size))\n",
    "\n",
    "trainX = []\n",
    "trainY = []\n",
    "for case, length in zip(merged_features, dataset.case_lens):\n",
    "    last_event_index = length - 1\n",
    "    trainY.append(case[length - 1].copy())\n",
    "\n",
    "    # Remove the target event from the training data\n",
    "    case[length - 1] = zero_event\n",
    "    trainX.append(case)\n",
    "\n",
    "trainX = np.array(trainX)\n",
    "trainY = np.array(trainY)"
   ]
  },
  {
   "cell_type": "code",
   "execution_count": 22,
   "metadata": {},
   "outputs": [
    {
     "data": {
      "text/plain": [
       "(35483, 13, 10, 20)"
      ]
     },
     "execution_count": 22,
     "metadata": {},
     "output_type": "execute_result"
    }
   ],
   "source": [
    "trainX.shape"
   ]
  },
  {
   "cell_type": "code",
   "execution_count": 23,
   "metadata": {},
   "outputs": [
    {
     "data": {
      "text/plain": [
       "(35483, 10, 20)"
      ]
     },
     "execution_count": 23,
     "metadata": {},
     "output_type": "execute_result"
    }
   ],
   "source": [
    "trainY.shape"
   ]
  },
  {
   "cell_type": "code",
   "execution_count": 24,
   "metadata": {},
   "outputs": [
    {
     "data": {
      "text/plain": [
       "array([[ 2.42486410e-02, -3.08201313e-02,  1.25959273e-02,  3.69720464e-03, -1.69607699e-02, -4.89611644e-03,  4.98956256e-02,  4.57294360e-02, -2.23091487e-02,  4.54151332e-02, -2.82088164e-02,  2.96546109e-02, -1.54860914e-02,  1.71587579e-02,  1.50861321e-02,  3.45023051e-02, -1.18694184e-02,\n",
       "         4.38751802e-02,  3.79471406e-02, -4.77382317e-02],\n",
       "       [ 0.00000000e+00,  0.00000000e+00,  0.00000000e+00,  0.00000000e+00,  0.00000000e+00,  0.00000000e+00,  0.00000000e+00,  0.00000000e+00,  0.00000000e+00,  0.00000000e+00,  0.00000000e+00,  0.00000000e+00,  0.00000000e+00,  0.00000000e+00,  0.00000000e+00,  0.00000000e+00,  0.00000000e+00,\n",
       "         0.00000000e+00,  0.00000000e+00,  0.00000000e+00],\n",
       "       [-4.28278465e-03,  1.41328154e-02,  2.70071439e-02,  3.52632813e-02, -2.85156071e-02,  9.29409824e-03,  3.04443184e-02, -2.39902548e-02, -1.55363027e-02,  3.39881480e-02,  8.15737806e-03,  9.49585461e-04,  1.73681863e-02,  1.08888745e-03,  4.80941311e-02,  2.53030173e-02, -4.45869491e-02,\n",
       "        -3.52078006e-02,  4.50727949e-03,  3.19626704e-02],\n",
       "       [-4.30984385e-02,  1.83286909e-02,  2.59494185e-02,  2.87096910e-02,  3.73345912e-02, -3.08383759e-02,  5.52806864e-03,  3.02364118e-02, -1.42002525e-02, -3.08676120e-02, -2.05111504e-03, -4.18447442e-02, -2.80000623e-02,  3.55226919e-02,  1.67626981e-02,  3.61283496e-02,  3.40012386e-02,\n",
       "         3.76537070e-02, -1.89457722e-02, -2.80902977e-03],\n",
       "       [ 3.94903421e-02, -3.49475220e-02, -4.57793251e-02, -1.77876349e-03, -1.54992044e-02,  3.94715853e-02,  2.96928696e-02, -7.72831449e-03,  7.55481701e-03,  8.95020366e-03,  3.90878543e-02, -4.75509353e-02, -1.02765555e-03,  1.73459835e-02, -4.69486136e-03,  4.19088602e-02,  4.50539179e-02,\n",
       "         3.26825306e-02, -3.55810532e-03,  3.85520235e-02],\n",
       "       [ 6.37728393e-01,  9.82435048e-01,  8.75734925e-01,  3.66654426e-01, -3.10895532e-01, -8.45596015e-01, -9.91764188e-01, -6.82239175e-01, -5.92406280e-02,  5.90977609e-01,  7.70261288e-01,  1.86604917e-01, -4.82792199e-01, -9.30357218e-01, -9.50444102e-01, -5.33823371e-01,  1.28077120e-01,\n",
       "         7.31129050e-01,  9.98243749e-01,  8.06687951e-01],\n",
       "       [ 4.48799193e-01,  8.02123189e-01,  9.84807730e-01,  9.57989514e-01,  7.27373660e-01,  3.42020154e-01, -1.16092913e-01, -5.49508989e-01, -8.66025388e-01, -9.98308182e-01,  8.93632650e-01,  5.97158611e-01,  1.73648179e-01, -2.86803246e-01, -6.86241627e-01, -9.39692616e-01, -9.93238330e-01,\n",
       "        -8.35487783e-01, -5.00000000e-01, -5.81448302e-02],\n",
       "       [ 7.27373660e-01,  9.98308182e-01,  6.42787635e-01, -1.16092913e-01, -8.02123189e-01, -9.84807730e-01, -5.49508989e-01,  2.30615869e-01,  8.66025388e-01,  9.57989514e-01,  6.86241627e-01, -5.81448302e-02, -7.66044438e-01, -9.93238330e-01, -5.97158611e-01,  1.73648179e-01,  8.35487783e-01,\n",
       "         9.73044872e-01,  5.00000000e-01, -2.86803246e-01],\n",
       "       [ 7.07106769e-01,  1.00000000e+00,  7.07106769e-01,  1.22464685e-16, -7.07106769e-01, -1.00000000e+00, -7.07106769e-01, -2.44929371e-16,  7.07106769e-01,  1.00000000e+00,  7.07106769e-01,  6.12323426e-17, -7.07106769e-01, -1.00000000e+00, -7.07106769e-01, -1.83697015e-16,  7.07106769e-01,\n",
       "         1.00000000e+00,  7.07106769e-01,  3.06161700e-16],\n",
       "       [-4.78927307e-02,  4.47155759e-02,  2.08253451e-02,  4.61736731e-02,  3.32175121e-02,  1.46236839e-02,  4.90201004e-02, -2.21232064e-02, -3.40165570e-02,  2.11369041e-02,  1.86449997e-02, -2.83230543e-02,  4.85238023e-02, -1.77915338e-02,  4.77470346e-02,  4.17363038e-03, -3.16922851e-02,\n",
       "        -9.88558494e-03, -3.68852727e-02, -1.48976147e-02]])"
      ]
     },
     "execution_count": 24,
     "metadata": {},
     "output_type": "execute_result"
    }
   ],
   "source": [
    "trainY[4]"
   ]
  },
  {
   "cell_type": "code",
   "execution_count": 25,
   "metadata": {},
   "outputs": [
    {
     "data": {
      "text/plain": [
       "array([[-0.01569275,  0.03015446, -0.03076373, -0.0099005 , -0.02991541, -0.0049784 , -0.01010493,  0.04242973,  0.00039001, -0.04287663, -0.02714549, -0.03437993,  0.01346191,  0.04728324, -0.02907998,  0.04132513,  0.04266026, -0.0353132 , -0.04441606,  0.04734592],\n",
       "       [ 0.        ,  0.        ,  0.        ,  0.        ,  0.        ,  0.        ,  0.        ,  0.        ,  0.        ,  0.        ,  0.        ,  0.        ,  0.        ,  0.        ,  0.        ,  0.        ,  0.        ,  0.        ,  0.        ,  0.        ],\n",
       "       [-0.04267167,  0.01603553, -0.02318999, -0.02544478,  0.01794809,  0.0268517 ,  0.03884757, -0.02883253,  0.0371668 ,  0.03312748, -0.018549  , -0.04372821,  0.02718734,  0.03254878, -0.00393775, -0.03354928, -0.03542963, -0.0124853 ,  0.02571627, -0.01832619],\n",
       "       [ 0.00386665, -0.04247889,  0.03904903,  0.04628646, -0.01371164,  0.00400112,  0.00373326,  0.02738943, -0.04303039,  0.00292228,  0.03434711,  0.01115797,  0.00562338, -0.04661078,  0.04241183, -0.03132064, -0.01496187,  0.01746893, -0.00386314,  0.00705646],\n",
       "       [ 0.00386665, -0.04247889,  0.03904903,  0.04628646, -0.01371164,  0.00400112,  0.00373326,  0.02738943, -0.04303039,  0.00292228,  0.03434711,  0.01115797,  0.00562338, -0.04661078,  0.04241183, -0.03132064, -0.01496187,  0.01746893, -0.00386314,  0.00705646],\n",
       "       [ 0.        ,  0.        ,  0.        ,  0.        ,  0.        ,  0.        ,  0.        ,  0.        ,  0.        ,  0.        ,  0.        ,  0.        ,  0.        ,  0.        ,  0.        ,  0.        ,  0.        ,  0.        ,  0.        ,  0.        ],\n",
       "       [ 0.        ,  0.        ,  0.        ,  0.        ,  0.        ,  0.        ,  0.        ,  0.        ,  0.        ,  0.        ,  0.        ,  0.        ,  0.        ,  0.        ,  0.        ,  0.        ,  0.        ,  0.        ,  0.        ,  0.        ],\n",
       "       [ 0.        ,  0.        ,  0.        ,  0.        ,  0.        ,  0.        ,  0.        ,  0.        ,  0.        ,  0.        ,  0.        ,  0.        ,  0.        ,  0.        ,  0.        ,  0.        ,  0.        ,  0.        ,  0.        ,  0.        ],\n",
       "       [ 0.        ,  0.        ,  0.        ,  0.        ,  0.        ,  0.        ,  0.        ,  0.        ,  0.        ,  0.        ,  0.        ,  0.        ,  0.        ,  0.        ,  0.        ,  0.        ,  0.        ,  0.        ,  0.        ,  0.        ],\n",
       "       [-0.00692248, -0.02313111,  0.02904655, -0.01169006, -0.02382033, -0.04737557, -0.00600157, -0.03598885, -0.00842609, -0.02034912, -0.01187068, -0.01624168, -0.04078236, -0.00624205,  0.00845472, -0.02023822, -0.03820726, -0.01793318, -0.04523567, -0.00379213]])"
      ]
     },
     "execution_count": 25,
     "metadata": {},
     "output_type": "execute_result"
    }
   ],
   "source": [
    "trainX[4,0]"
   ]
  },
  {
   "cell_type": "code",
   "execution_count": 26,
   "metadata": {},
   "outputs": [
    {
     "data": {
      "text/plain": [
       "(35483, 2600)"
      ]
     },
     "execution_count": 26,
     "metadata": {},
     "output_type": "execute_result"
    }
   ],
   "source": [
    "dim0, dim1, dim2, dim3 = trainX.shape\n",
    "trainX = np.reshape(trainX, (dim0, dim1, dim2 * dim3))#, order='C')\n",
    "trainX = np.reshape(trainX, (dim0, dim1 * dim2 * dim3))#, order='C')\n",
    "trainX.shape"
   ]
  },
  {
   "cell_type": "code",
   "execution_count": 27,
   "metadata": {},
   "outputs": [
    {
     "data": {
      "text/plain": [
       "(35483, 200)"
      ]
     },
     "execution_count": 27,
     "metadata": {},
     "output_type": "execute_result"
    }
   ],
   "source": [
    "dim0, dim1, dim2 = trainY.shape\n",
    "trainY = np.reshape(trainY, (dim0, dim1 * dim2))#, order='C')\n",
    "trainY.shape"
   ]
  },
  {
   "cell_type": "markdown",
   "metadata": {},
   "source": [
    "# Token Encoding"
   ]
  },
  {
   "cell_type": "code",
   "execution_count": 28,
   "metadata": {},
   "outputs": [],
   "source": [
    "features = np.array(dataset.features)\n",
    "cases = np.transpose(features, (1, 2, 0))"
   ]
  },
  {
   "cell_type": "code",
   "execution_count": 29,
   "metadata": {},
   "outputs": [
    {
     "name": "stdout",
     "output_type": "stream",
     "text": [
      "(10, 35483, 13)\n",
      "(35483, 13, 10)\n",
      "35483\n",
      "[<AttributeType.CATEGORICAL: 0>, <AttributeType.NUMERICAL: 1>, <AttributeType.CATEGORICAL: 0>, <AttributeType.CATEGORICAL: 0>, <AttributeType.CATEGORICAL: 0>, <AttributeType.NUMERICAL: 1>, <AttributeType.NUMERICAL: 1>, <AttributeType.NUMERICAL: 1>, <AttributeType.NUMERICAL: 1>, <AttributeType.CATEGORICAL: 0>]\n",
      "['name', 'arrival_time', 'company', 'country', 'department', 'global_workload_D', 'global_workload_h', 'local_workload_D', 'local_workload_h', 'user']\n"
     ]
    }
   ],
   "source": [
    "# Debug Prints\n",
    "print(features.shape)\n",
    "print(cases.shape)\n",
    "print(len(dataset.case_lens))\n",
    "print(dataset.attribute_types)\n",
    "print(dataset.event_log.event_attribute_keys)"
   ]
  },
  {
   "cell_type": "code",
   "execution_count": 30,
   "metadata": {},
   "outputs": [
    {
     "name": "stdout",
     "output_type": "stream",
     "text": [
      "[ True False  True  True  True False False False False  True]\n",
      "(35483, 13, 5)\n"
     ]
    }
   ],
   "source": [
    "# Categorical filter TODO make sure the transformer model can also handle numerical values via multitask learning\n",
    "from utils.enums import AttributeType\n",
    "\n",
    "# Create a boolean mask for categorical attributes\n",
    "categorical_mask = np.array(dataset.attribute_types) == AttributeType.CATEGORICAL\n",
    "print(categorical_mask)\n",
    "num_categorical_features = np.sum(categorical_mask)\n",
    "\n",
    "# Use this mask to filter out only the categorical attributes in the last axis\n",
    "categorical_cases = cases[..., categorical_mask]\n",
    "print(categorical_cases.shape)"
   ]
  },
  {
   "cell_type": "code",
   "execution_count": 89,
   "metadata": {},
   "outputs": [
    {
     "name": "stdout",
     "output_type": "stream",
     "text": [
      "['name', 'company', 'country', 'department', 'user']\n"
     ]
    }
   ],
   "source": [
    "categorical_keys = []\n",
    "for type, key in zip(dataset.attribute_types, dataset.event_log.event_attribute_keys):\n",
    "    if type == AttributeType.CATEGORICAL:\n",
    "        categorical_keys.append(key)\n",
    "print(categorical_keys)"
   ]
  },
  {
   "cell_type": "code",
   "execution_count": 31,
   "metadata": {},
   "outputs": [
    {
     "name": "stdout",
     "output_type": "stream",
     "text": [
      "[ 2  2  3 ...  8 10 10]\n"
     ]
    }
   ],
   "source": [
    "print(dataset.case_lens)"
   ]
  },
  {
   "cell_type": "code",
   "execution_count": 32,
   "metadata": {},
   "outputs": [
    {
     "name": "stdout",
     "output_type": "stream",
     "text": [
      "(5,)\n",
      "(35483, 13, 5)\n",
      "(35483, 5)\n"
     ]
    }
   ],
   "source": [
    "zero_event = np.zeros((num_categorical_features))\n",
    "print(zero_event.shape)\n",
    "\n",
    "trainX_categorical = []\n",
    "trainY_categorical = []\n",
    "for index, (case, case_length) in enumerate(zip(categorical_cases, dataset.case_lens)):\n",
    "    last_event_index = case_length - 1\n",
    "    trainY_categorical.append(case[last_event_index].copy())\n",
    "\n",
    "    # Remove the target event from the training data\n",
    "    case[last_event_index] = zero_event\n",
    "    trainX_categorical.append(case)\n",
    "\n",
    "trainX_categorical = np.array(trainX_categorical, dtype=np.int64)\n",
    "trainY_categorical = np.array(trainY_categorical, dtype=np.int64)\n",
    "\n",
    "print(trainX_categorical.shape)\n",
    "print(trainY_categorical.shape)"
   ]
  },
  {
   "cell_type": "code",
   "execution_count": 33,
   "metadata": {},
   "outputs": [
    {
     "data": {
      "text/plain": [
       "(35483, 65)"
      ]
     },
     "execution_count": 33,
     "metadata": {},
     "output_type": "execute_result"
    }
   ],
   "source": [
    "dim0, dim1, dim2 = trainX_categorical.shape\n",
    "trainX_categorical = np.reshape(trainX_categorical, (dim0, dim1 * dim2))#, order='C')\n",
    "trainX_categorical.shape"
   ]
  },
  {
   "cell_type": "code",
   "execution_count": 34,
   "metadata": {},
   "outputs": [
    {
     "name": "stdout",
     "output_type": "stream",
     "text": [
      "[  1   1   1   1   1   5  82  91 113 135   6  83  92 115 137   9  86  98 120 144   0   0   0   0   0   0   0   0   0   0   0   0   0   0   0   0   0   0   0   0   0   0   0   0   0   0   0   0   0   0   0   0   0   0   0   0   0   0   0   0   0   0   0   0   0]\n"
     ]
    }
   ],
   "source": [
    "print(trainX_categorical[12])"
   ]
  },
  {
   "cell_type": "code",
   "execution_count": 35,
   "metadata": {},
   "outputs": [
    {
     "data": {
      "text/plain": [
       "array([1, 1, 1, 1, 1], dtype=int64)"
      ]
     },
     "execution_count": 35,
     "metadata": {},
     "output_type": "execute_result"
    }
   ],
   "source": [
    "trainX_categorical[12,0:5]"
   ]
  },
  {
   "cell_type": "code",
   "execution_count": 36,
   "metadata": {},
   "outputs": [
    {
     "data": {
      "text/plain": [
       "array([  5,  82,  91, 113, 135,   6,  83,  92, 115, 137,   9,  86,  98, 120, 144,   0,   0,   0,   0,   0,   0,   0,   0,   0,   0,   0,   0,   0,   0,   0,   0,   0,   0,   0,   0,   0,   0,   0,   0,   0,   0,   0,   0,   0,   0,   0,   0,   0,   0,   0,   0,   0,   0,   0,   0,   0,   0,   0,\n",
       "         0,   0], dtype=int64)"
      ]
     },
     "execution_count": 36,
     "metadata": {},
     "output_type": "execute_result"
    }
   ],
   "source": [
    "trainX_categorical[12,5:]"
   ]
  },
  {
   "cell_type": "code",
   "execution_count": 37,
   "metadata": {},
   "outputs": [
    {
     "data": {
      "text/plain": [
       "array([[  5,  82,  91, 113, 135],\n",
       "       [  5,  82,  91, 114, 136],\n",
       "       [  6,  83,  92, 115, 137],\n",
       "       [  6,  83,  92, 116, 138],\n",
       "       [  5,  84,  93, 117, 139],\n",
       "       [  5,  82,  94, 118, 140],\n",
       "       [  5,  84,  93, 117, 139],\n",
       "       [  5,  84,  93, 117, 139],\n",
       "       [  5,  82,  95, 114, 141],\n",
       "       [  7,  85,  96, 119, 142],\n",
       "       [  5,  84,  93, 117, 139],\n",
       "       [  8,  85,  97, 119, 143],\n",
       "       [  2,   2,   2,   2,   2],\n",
       "       [  2,   2,   2,   2,   2],\n",
       "       [  2,   2,   2,   2,   2],\n",
       "       [  2,   2,   2,   2,   2],\n",
       "       [  7,  82,  91, 118, 145],\n",
       "       [  5,  84,  93, 117, 139],\n",
       "       [  6,  83,  95, 115, 146],\n",
       "       [  7,  85,  96, 119, 142]], dtype=int64)"
      ]
     },
     "execution_count": 37,
     "metadata": {},
     "output_type": "execute_result"
    }
   ],
   "source": [
    "trainY_categorical[0:20]"
   ]
  },
  {
   "cell_type": "code",
   "execution_count": 38,
   "metadata": {},
   "outputs": [
    {
     "name": "stdout",
     "output_type": "stream",
     "text": [
      "[2 2 2 2 2]\n"
     ]
    }
   ],
   "source": [
    "print(trainY_categorical[12])"
   ]
  },
  {
   "cell_type": "code",
   "execution_count": 39,
   "metadata": {},
   "outputs": [],
   "source": [
    "vocab_size = 0\n",
    "for encoder in dataset.encoders.values():\n",
    "    largest_index = encoder.largest_attribute()\n",
    "    if largest_index > vocab_size:\n",
    "        vocab_size = largest_index + 1"
   ]
  },
  {
   "cell_type": "code",
   "execution_count": 40,
   "metadata": {},
   "outputs": [
    {
     "data": {
      "text/plain": [
       "235"
      ]
     },
     "execution_count": 40,
     "metadata": {},
     "output_type": "execute_result"
    }
   ],
   "source": [
    "vocab_size"
   ]
  },
  {
   "cell_type": "markdown",
   "metadata": {},
   "source": [
    "# Online Process Transformer Implementation"
   ]
  },
  {
   "cell_type": "code",
   "execution_count": 41,
   "metadata": {},
   "outputs": [],
   "source": [
    "from keras.optimizers import Adam # type: ignore\n",
    "from keras.metrics import Mean # type: ignore\n",
    "from tensorflow import data, train, GradientTape, function # type: ignore\n",
    "\n",
    "from novel.transformer.components.transformer import TransformerModel\n",
    "from novel.transformer.components.utils import LRScheduler, loss_fcn, accuracy_fcn, likelihood_fcn"
   ]
  },
  {
   "cell_type": "code",
   "execution_count": 42,
   "metadata": {},
   "outputs": [
    {
     "name": "stdout",
     "output_type": "stream",
     "text": [
      "65 Encoding Sequence Length\n",
      "5 Decoding Sequence Length\n"
     ]
    }
   ],
   "source": [
    "# Define the model parameters\n",
    "\n",
    "h = 8  # Number of self-attention heads\n",
    "d_k = 64  # Dimensionality of the linearly projected queries and keys\n",
    "d_v = 64  # Dimensionality of the linearly projected values\n",
    "d_model = 512  # Dimensionality of model layers' outputs\n",
    "d_ff = 2048  # Dimensionality of the inner fully connected layer\n",
    "n = 6  # Number of layers in the encoder stack\n",
    "\n",
    "# Define the training parameters\n",
    "batch_size = 64\n",
    "beta_1 = 0.9\n",
    "beta_2 = 0.98\n",
    "epsilon = 1e-9\n",
    "dropout_rate = 0.1\n",
    "\n",
    "# Instantiate an Adam optimizer\n",
    "optimizer = Adam(LRScheduler(d_model), beta_1, beta_2, epsilon)\n",
    "\n",
    "# Prepare the training and test splits of the dataset\n",
    "# dataset = PrepareDataset()\n",
    "# trainX, trainY, train_orig, enc_seq_length, dec_seq_length, enc_vocab_size, dec_vocab_size = dataset('english-german-both.pkl')\n",
    "# print(f'X Length: {trainX.shape}')\n",
    "enc_seq_length = trainX_categorical.shape[1]\n",
    "dec_seq_length = trainY_categorical.shape[1]\n",
    "# h = 10\n",
    "\n",
    "print(enc_seq_length, \"Encoding Sequence Length\")\n",
    "print(dec_seq_length, \"Decoding Sequence Length\")\n",
    "\n",
    "\n",
    "# d_model = enc_seq_length\n",
    "# d_ff = enc_seq_length\n",
    "\n",
    "# Prepare the dataset batches\n",
    "train_dataset = data.Dataset.from_tensor_slices((trainX_categorical, trainY_categorical))\n",
    "train_dataset = train_dataset.batch(batch_size)\n",
    "\n",
    "# Create model\n",
    "training_model = TransformerModel(\n",
    "    enc_seq_length, \n",
    "    dec_seq_length, \n",
    "    h, d_k, \n",
    "    d_v, \n",
    "    d_model, \n",
    "    d_ff, \n",
    "    n, \n",
    "    dropout_rate,\n",
    "    enc_vocab_size=vocab_size,\n",
    "    dec_vocab_size=vocab_size)\n",
    "\n",
    "# Include metrics monitoring\n",
    "train_loss = Mean(name='train_loss')\n",
    "train_accuracy = Mean(name='train_accuracy')\n",
    "train_likelihood = Mean(name='train_likelihood')\n",
    "\n",
    "# Create a checkpoint object and manager to manage multiple checkpoints\n",
    "ckpt = train.Checkpoint(model=training_model, optimizer=optimizer)\n",
    "ckpt_manager = train.CheckpointManager(ckpt, \"./checkpoints\", max_to_keep=3)"
   ]
  },
  {
   "cell_type": "code",
   "execution_count": 43,
   "metadata": {},
   "outputs": [
    {
     "name": "stdout",
     "output_type": "stream",
     "text": [
      "\n",
      "Start of training in 555 batches\n",
      "(64, 1, 1, 60) Mask\n",
      "(64, 1, 1, 5) Mask\n",
      "(64, 1, 1, 60) Mask\n",
      "(64, 1, 1, 5) Mask\n",
      "Step 0 Loss 6.3360 Accuracy 0.0000 Likelihood 0.0033\n",
      "Step 25 Loss 5.9685 Accuracy 0.0460 Likelihood 0.0106\n",
      "Step 50 Loss 5.0855 Accuracy 0.1665 Likelihood 0.0769\n",
      "Step 75 Loss 4.5846 Accuracy 0.2121 Likelihood 0.1249\n",
      "Step 100 Loss 4.1842 Accuracy 0.2536 Likelihood 0.1693\n",
      "Step 125 Loss 3.8490 Accuracy 0.2980 Likelihood 0.2044\n",
      "Step 150 Loss 3.5174 Accuracy 0.3485 Likelihood 0.2416\n",
      "Step 175 Loss 3.1957 Accuracy 0.4003 Likelihood 0.2847\n",
      "Step 200 Loss 2.9113 Accuracy 0.4493 Likelihood 0.3280\n",
      "Step 225 Loss 2.6610 Accuracy 0.4945 Likelihood 0.3700\n",
      "Step 250 Loss 2.4421 Accuracy 0.5349 Likelihood 0.4099\n",
      "Step 275 Loss 2.2550 Accuracy 0.5700 Likelihood 0.4463\n",
      "Step 300 Loss 2.0899 Accuracy 0.6012 Likelihood 0.4804\n",
      "Step 325 Loss 1.9454 Accuracy 0.6286 Likelihood 0.5110\n",
      "Step 350 Loss 1.8183 Accuracy 0.6527 Likelihood 0.5391\n",
      "Step 375 Loss 1.7074 Accuracy 0.6739 Likelihood 0.5641\n",
      "Step 400 Loss 1.6071 Accuracy 0.6931 Likelihood 0.5874\n",
      "Step 425 Loss 1.5178 Accuracy 0.7103 Likelihood 0.6086\n",
      "Step 450 Loss 1.4376 Accuracy 0.7256 Likelihood 0.6278\n",
      "Step 475 Loss 1.3652 Accuracy 0.7394 Likelihood 0.6455\n",
      "Step 500 Loss 1.2998 Accuracy 0.7519 Likelihood 0.6615\n",
      "Step 525 Loss 1.2405 Accuracy 0.7632 Likelihood 0.6762\n",
      "Step 550 Loss 1.1860 Accuracy 0.7737 Likelihood 0.6897\n",
      "(27, 1, 1, 60) Mask\n",
      "(27, 1, 1, 5) Mask\n",
      "Training Loss 1.1776, Training Accuracy 0.7753, Training Likelihood 0.6918\n",
      "Total time taken: 886.73s\n"
     ]
    }
   ],
   "source": [
    "predictions = []\n",
    "targets = []\n",
    "losses = []\n",
    "\n",
    "# Speeding up the training process\n",
    "@function\n",
    "def train_step(encoder_input, decoder_input, decoder_output):\n",
    "    with GradientTape() as tape:\n",
    "        prediction = training_model(encoder_input, decoder_input, training=True)\n",
    "\n",
    "        loss = loss_fcn(decoder_output, prediction)\n",
    "        accuracy = accuracy_fcn(decoder_output, prediction)\n",
    "        likelihood = likelihood_fcn(decoder_output, prediction)\n",
    "\n",
    "    gradients = tape.gradient(loss, training_model.trainable_weights)\n",
    "    optimizer.apply_gradients(zip(gradients, training_model.trainable_weights))\n",
    "\n",
    "    train_loss(loss)\n",
    "    train_accuracy(accuracy)\n",
    "    train_likelihood(likelihood)\n",
    "\n",
    "    return loss, prediction, decoder_output\n",
    "\n",
    "train_loss.reset_states()\n",
    "train_accuracy.reset_states()\n",
    "train_likelihood.reset_states()\n",
    "\n",
    "print(f\"\\nStart of training in {len(train_dataset)} batches\")\n",
    "\n",
    "start_time = time()\n",
    "\n",
    "for step, (train_batchX, train_batchY) in enumerate(train_dataset):\n",
    "    encoder_input = train_batchX[:, num_categorical_features:] #1:] #Skip the start symbol\n",
    "    decoder_input =  train_batchY[:, 0:num_categorical_features]    #train_batchY[:, :-1] \n",
    "    decoder_output = train_batchY[:, :]\n",
    "\n",
    "    # print(encoder_input.shape, \"Encoder Input\")\n",
    "    # print(decoder_input.shape, \"Decoder Input\")\n",
    "    # print(decoder_output.shape, \"Decoder Output\")\n",
    "\n",
    "    loss, prediction, target = train_step(encoder_input, decoder_input, decoder_output)\n",
    "\n",
    "    losses.append(loss.numpy())\n",
    "    predictions.append(prediction.numpy())\n",
    "    targets.append(decoder_output.numpy())\n",
    "\n",
    "    if step % 25 == 0:\n",
    "        print(f'Step {step} Loss {train_loss.result():.4f} Accuracy {train_accuracy.result():.4f} Likelihood {train_likelihood.result():.4f}')\n",
    "\n",
    "# Print epoch number and loss value at the end of every epoch\n",
    "print(\"Training Loss %.4f, Training Accuracy %.4f, Training Likelihood %.4f\" % (train_loss.result(), train_accuracy.result(), train_likelihood.result()))\n",
    "\n",
    "print(\"Total time taken: %.2fs\" % (time() - start_time))"
   ]
  },
  {
   "cell_type": "markdown",
   "metadata": {},
   "source": [
    "# Output analysis"
   ]
  },
  {
   "cell_type": "code",
   "execution_count": 44,
   "metadata": {},
   "outputs": [
    {
     "data": {
      "text/plain": [
       "555"
      ]
     },
     "execution_count": 44,
     "metadata": {},
     "output_type": "execute_result"
    }
   ],
   "source": [
    "len(predictions)"
   ]
  },
  {
   "cell_type": "code",
   "execution_count": 45,
   "metadata": {},
   "outputs": [
    {
     "data": {
      "text/plain": [
       "(64, 5, 235)"
      ]
     },
     "execution_count": 45,
     "metadata": {},
     "output_type": "execute_result"
    }
   ],
   "source": [
    "predictions[0].shape"
   ]
  },
  {
   "cell_type": "code",
   "execution_count": 46,
   "metadata": {},
   "outputs": [
    {
     "data": {
      "text/plain": [
       "(64, 5)"
      ]
     },
     "execution_count": 46,
     "metadata": {},
     "output_type": "execute_result"
    }
   ],
   "source": [
    "targets[0].shape"
   ]
  },
  {
   "cell_type": "code",
   "execution_count": 47,
   "metadata": {},
   "outputs": [
    {
     "name": "stdout",
     "output_type": "stream",
     "text": [
      "[6.336041, 6.65672, 6.685649, 6.308651, 6.9517517, 6.5825224, 6.3575845, 6.4236627, 6.571347, 6.477224, 6.492671, 6.336982, 6.182351, 6.2006793, 5.9548616, 5.831486, 5.798366, 5.6151958, 5.6462393, 5.3378043, 4.941777, 5.25442, 5.172324, 5.1554832, 5.1845884, 4.723757, 4.5523067, 4.115216, 4.349202, 4.1199636, 4.191457, 4.9570208, 4.947753, 4.5841184, 4.090228, 4.6139097, 3.929915, 3.7124054, 3.964461, 4.000009, 4.4170938, 4.1349616, 4.4684563, 4.183818, 4.014783, 3.6003952, 3.2638097, 4.2009788, 4.0612464, 3.5780532, 4.127574, 3.9985166, 3.762448, 3.9508712, 3.408942, 3.329412, 4.286134, 3.6693337, 3.8633778, 3.123998, 3.7347074, 3.3190994, 3.4906623, 3.5953565, 3.8284066, 3.0867543, 2.9510188, 3.5332592, 4.082759, 3.261058, 3.40438, 3.573246, 3.3727646, 3.5635822, 3.7174659, 3.1616166, 2.7421565, 2.8369823, 3.5539367, 2.9891915, 3.4300828, 2.9745533, 3.337014, 2.1617417, 3.2362518, 2.7911105, 3.1902022, 3.19218, 2.8310013, 3.313031, 2.594481, 3.0799851, 3.0364387, 3.320998, 2.9796956, 3.2575316, 2.6558697, 2.6171536, 2.6641746, 2.97129, 2.4167461, 2.84769, 2.8945327, 2.5333085, 2.5103016, 2.6124995, 3.1263027, 2.6418204, 3.0705833, 2.673115, 2.4745688, 2.2968278, 2.1308038, 2.3283315, 2.6525218, 2.7051017, 2.3660803, 2.780275, 2.6263518, 1.7711706, 2.3450649, 1.9839809, 2.3233447, 2.295135, 1.8733841, 2.5057669, 2.299292, 2.4333644, 2.451922, 1.9712921, 1.5617851, 1.4532409, 1.5559914, 2.1312222, 2.4428604, 2.3448198, 1.7476189, 1.7371185, 1.4261928, 1.4830182, 1.9607798, 1.7431476, 1.9712547, 1.6307442, 1.5901494, 1.8121154, 1.6926495, 1.7297074, 1.5715607, 1.7947958, 1.6149127, 1.0441185, 1.4919056, 1.2783544, 1.2863152, 1.7518944, 1.5669959, 1.4158492, 1.4458969, 1.1626883, 1.2564877, 1.4221098, 1.1169647, 1.2684988, 0.9802431, 1.3882048, 1.1017201, 1.3460304, 1.1824344, 1.058116, 1.1459097, 1.2638375, 1.0956008, 0.9637316, 1.3275197, 0.9643707, 1.2174561, 1.0562613, 1.0387218, 1.0507971, 0.7352694, 0.9782666, 0.94510347, 1.0543964, 0.92611235, 1.3449361, 1.0581319, 0.5733574, 1.0051069, 0.7063672, 0.98681146, 0.8732206, 0.9325714, 0.8363706, 0.9825593, 0.8034612, 0.7811997, 0.6101027, 0.6190778, 0.8474773, 0.76829624, 1.0988888, 0.594164, 0.94106615, 0.6008208, 0.6517051, 0.63353103, 0.90417176, 0.4590611, 0.5770205, 0.5934674, 0.7195718, 0.70197886, 0.84544027, 0.45561343, 0.4341801, 0.44011623, 0.63079745, 0.71472806, 0.6918842, 0.51545215, 0.57183063, 0.709457, 0.6653349, 0.5667695, 0.495881, 0.45661086, 0.6185718, 0.52950084, 0.57333505, 0.40504664, 0.5159749, 0.45392823, 0.57082975, 0.5068741, 0.35622054, 0.3208042, 0.46765345, 0.34902632, 0.5180222, 0.4860982, 0.5091036, 0.5474332, 0.41357383, 0.54164886, 0.47623235, 0.4238701, 0.31952643, 0.5040606, 0.25323695, 0.46610245, 0.5233653, 0.51119345, 0.42374945, 0.3651251, 0.38248962, 0.37816185, 0.31442386, 0.37771216, 0.64188945, 0.44731188, 0.45877808, 0.28632858, 0.23293829, 0.39890927, 0.47360682, 0.25644502, 0.36804843, 0.38979512, 0.40680456, 0.3075449, 0.35954696, 0.24294361, 0.3123116, 0.29459238, 0.25595996, 0.28637978, 0.39291644, 0.30214417, 0.21366148, 0.3114048, 0.30513972, 0.15657134, 0.27814206, 0.23342538, 0.35312435, 0.29309535, 0.26444736, 0.3137142, 0.1399552, 0.19801812, 0.25111532, 0.21269879, 0.2789683, 0.42179355, 0.2395623, 0.23679042, 0.27556914, 0.31481364, 0.22365554, 0.17400312, 0.2110687, 0.2888457, 0.24705033, 0.18165946, 0.30937156, 0.2067922, 0.17331973, 0.20704159, 0.25080144, 0.13615763, 0.27900997, 0.18198733, 0.1327231, 0.25891128, 0.2162616, 0.24058776, 0.11836765, 0.22511062, 0.18636711, 0.15978411, 0.14453362, 0.1469445, 0.1542254, 0.21274996, 0.2628732, 0.21179089, 0.1268172, 0.30793118, 0.18507639, 0.15770082, 0.19698729, 0.18608318, 0.14262334, 0.17566015, 0.09537231, 0.14972158, 0.12899351, 0.14991419, 0.18648946, 0.18565771, 0.09868018, 0.13250978, 0.19768538, 0.25086504, 0.11596142, 0.0926097, 0.09432539, 0.18164785, 0.15617104, 0.11269281, 0.18792073, 0.16086097, 0.13679542, 0.12353684, 0.09118496, 0.22147195, 0.14966199, 0.18671443, 0.19616587, 0.1611675, 0.11408609, 0.07837378, 0.14478402, 0.16087934, 0.23217487, 0.2682001, 0.15090889, 0.11816615, 0.1328058, 0.1097195, 0.097857, 0.2131449, 0.08055697, 0.16715448, 0.0792625, 0.054973967, 0.12365781, 0.0834105, 0.16632386, 0.12094848, 0.101847805, 0.14785269, 0.059912838, 0.08990952, 0.08514117, 0.14588806, 0.05912835, 0.13663386, 0.052041877, 0.11264324, 0.09077748, 0.07636265, 0.13140501, 0.060511433, 0.11126959, 0.09792635, 0.13882229, 0.08709054, 0.097148106, 0.054175932, 0.108132794, 0.084423736, 0.07435755, 0.054823358, 0.15791042, 0.07915493, 0.06255306, 0.061231114, 0.08884791, 0.103531875, 0.08119522, 0.08956692, 0.08141207, 0.11282368, 0.06971376, 0.09675533, 0.089088954, 0.12246102, 0.08335702, 0.06526142, 0.046689518, 0.049506735, 0.07359002, 0.09766761, 0.09284151, 0.10288539, 0.08238681, 0.07065064, 0.049218755, 0.05951451, 0.08084734, 0.07470526, 0.06101858, 0.059649844, 0.050234377, 0.10118048, 0.1000072, 0.11662364, 0.036559753, 0.06784873, 0.043584324, 0.026874935, 0.060934246, 0.121339574, 0.11705849, 0.07399814, 0.065959886, 0.029437602, 0.047364064, 0.05160656, 0.04831243, 0.030523455, 0.06584263, 0.03631372, 0.059020646, 0.10036056, 0.060874473, 0.044204485, 0.088435225, 0.08328495, 0.07214771, 0.023318093, 0.10141511, 0.058775492, 0.043635584, 0.06422927, 0.034168676, 0.039265152, 0.055103503, 0.09045336, 0.041535564, 0.056303702, 0.03473664, 0.105181254, 0.07173771, 0.03307525, 0.081232935, 0.023138398, 0.037941642, 0.05030803, 0.08479854, 0.081323184, 0.05702536, 0.09240576, 0.034481473, 0.09978404, 0.047783636, 0.02006048, 0.06076608, 0.03849742, 0.061770517, 0.041197248, 0.041998114, 0.06433996, 0.069305375, 0.025401067, 0.03195133, 0.09383148, 0.056075044, 0.040857155, 0.0264386, 0.05012528, 0.04306423, 0.06671834, 0.09229463, 0.055556882, 0.03450717, 0.060009994, 0.042238295, 0.041933257, 0.09028492, 0.05005359, 0.038467374, 0.026093503, 0.030014839, 0.04800632, 0.045080237, 0.027067656, 0.020321682, 0.061462484, 0.10009346, 0.11283313, 0.042263605, 0.036274508, 0.039605983, 0.028960114, 0.036466356, 0.064540066, 0.030337343, 0.032348227, 0.035359997, 0.017074626, 0.0423985, 0.041704975, 0.06328744, 0.026887828, 0.054312777, 0.075356804, 0.036651395, 0.038933933, 0.062041957, 0.012331134, 0.05184108, 0.026526082, 0.037157796, 0.04200787, 0.026183125, 0.041798286, 0.023761591, 0.033573844, 0.029522914, 0.018634424, 0.019600596, 0.012982273]\n"
     ]
    }
   ],
   "source": [
    "print(losses)"
   ]
  },
  {
   "cell_type": "code",
   "execution_count": 48,
   "metadata": {},
   "outputs": [
    {
     "data": {
      "image/png": "[encoded data removed]",
      "text/plain": [
       "<Figure size 1000x600 with 1 Axes>"
      ]
     },
     "metadata": {},
     "output_type": "display_data"
    }
   ],
   "source": [
    "import matplotlib.pyplot as plt\n",
    "\n",
    "plt.figure(figsize=(10, 6))\n",
    "plt.plot(losses, label='Training Loss')\n",
    "plt.xlabel('Batches')\n",
    "plt.ylabel('Loss Value')\n",
    "plt.title('Training Loss Over Time')\n",
    "plt.legend()\n",
    "plt.grid(True)\n",
    "plt.show()"
   ]
  },
  {
   "cell_type": "code",
   "execution_count": 58,
   "metadata": {},
   "outputs": [],
   "source": [
    "predictions = np.vstack(predictions)"
   ]
  },
  {
   "cell_type": "code",
   "execution_count": 59,
   "metadata": {},
   "outputs": [
    {
     "data": {
      "text/plain": [
       "array([-0.49820694,  0.4781361 , -1.8001904 , -1.2360493 , -0.61119246, -0.0307138 ,  0.56337595, -0.3776486 ,  0.26784325,  0.42837203, -0.26863712, -0.34459233,  0.73411155,  1.3680257 ,  0.32626566,  1.7283027 ,  1.6749468 ,  2.3565123 ,  2.2638416 , -0.20516956, -0.8067938 , -2.4872236 ,\n",
       "        0.34090948,  0.6108086 , -0.2981327 , -0.7177971 , -1.2707937 , -0.9703383 ,  1.625971  ,  1.1012738 , -0.6871612 ,  0.48794803, -2.6464057 , -0.14029011,  1.0032878 , -1.1588645 , -0.18485507, -0.22059517,  0.6514392 ,  2.2871394 , -1.659802  ,  1.8918692 , -1.3801821 ,  1.3177066 ,\n",
       "        0.6101354 ,  0.30399287, -1.6185544 ,  0.36624172, -2.0590782 , -2.053397  , -0.7407918 , -0.13476992,  0.07453978,  0.7273027 , -0.12400948,  1.733939  ,  0.14485464, -0.8500798 ,  1.4976056 ,  0.95835036, -0.8430932 ,  0.6327473 , -1.0452745 , -1.5826347 ,  1.8663112 ,  0.54238236,\n",
       "        0.05179882,  0.99999756,  0.2630214 ,  0.95674753, -0.07485616,  1.3169785 , -1.143208  ,  0.7634748 ,  0.55561924,  0.36592668, -0.74794865, -0.32049766, -0.14956492, -0.95953065, -0.5780162 ,  1.061584  , -1.591666  ,  0.69638586,  0.5901861 , -0.7631456 ,  0.01472908,  1.0114295 ,\n",
       "       -0.06398094,  0.05796301,  1.7510176 ,  0.91557443, -0.5815171 ,  0.88094294, -0.44945794,  0.30628663,  1.9380909 , -0.14453715,  1.1194271 ,  1.4769591 , -1.2190133 ,  0.0224459 , -1.2979326 ,  0.45294857, -1.4424394 , -1.2904922 , -0.14501458, -2.367789  , -2.6216412 ,  0.63144577,\n",
       "       -1.8732054 ,  0.7345767 ,  0.35842636, -0.4397001 ,  0.9218984 , -1.32381   , -0.9594355 , -0.95160633, -0.11101747,  0.99230415,  1.249586  ,  0.29555   , -0.31735563,  3.0416286 , -1.3834071 ,  2.1036346 , -0.1965223 ,  1.5373023 ,  1.7492708 , -0.7743809 , -0.34695768, -0.7845484 ,\n",
       "       -0.59384096, -0.47680527, -0.6069941 , -1.335395  , -0.88141525,  0.19440448,  0.95581234, -0.68303734, -0.68257177,  2.454145  ,  0.43712685, -0.0456093 ,  0.85420674,  0.7232346 ,  0.3737604 ,  0.69112974, -0.96117556, -0.840317  , -0.21995485,  2.0105836 , -1.0898627 ,  0.8939638 ,\n",
       "        1.1931885 , -0.59370995, -0.29572296,  1.1322618 , -1.0538074 ,  0.8747489 ,  1.0753918 , -0.5872619 , -0.8767861 , -0.7908504 , -0.64979553,  0.29813173,  1.0729368 ,  0.6129112 , -0.90751266, -1.0278131 , -1.1187853 , -1.1936443 , -0.86886257, -0.97017354, -0.11798093, -0.36815077,\n",
       "        0.6233696 , -0.3425686 ,  0.25397187,  1.092524  , -0.6069082 ,  1.5196223 , -0.21185704, -0.01058009, -0.46616095,  0.47137237,  1.933243  ,  0.02543676, -1.0517011 ,  0.20166314,  0.7472279 ,  1.1099473 ,  1.0353992 ,  1.7494769 , -0.41789475, -0.49690402, -0.42999542,  0.6249888 ,\n",
       "       -1.8985546 , -0.7765837 , -1.3656114 , -0.13070029,  0.09122896,  0.25991675, -0.1873513 ,  1.3882556 ,  1.0580708 , -1.275445  , -0.5913286 , -1.0243735 ,  0.21992435, -0.105987  ,  2.9983673 ,  0.0451501 ,  0.5985652 , -0.6060939 , -1.3986149 ,  2.1792502 ,  0.185296  ,  0.68677163,\n",
       "       -1.3919746 ,  0.7961486 ,  0.36124876,  0.32299066, -1.326556  , -0.02160375,  0.44584244,  0.10786635,  0.38357854, -0.11083023, -0.51691306, -1.3781502 , -0.13237923,  0.88236165,  0.39717785], dtype=float32)"
      ]
     },
     "execution_count": 59,
     "metadata": {},
     "output_type": "execute_result"
    }
   ],
   "source": [
    "predictions[0,0]"
   ]
  },
  {
   "cell_type": "code",
   "execution_count": 60,
   "metadata": {},
   "outputs": [],
   "source": [
    "import numpy as np\n",
    "import matplotlib.pyplot as plt\n",
    "\n",
    "def plot_prediction_bar_chart(predictions, word_labels=None):\n",
    "    \"\"\"\n",
    "    Plots a bar chart of predicted word likelihoods.\n",
    "\n",
    "    Parameters:\n",
    "        predictions (np.ndarray): Array of probabilities (likelihoods) between 0 and 1.\n",
    "        word_labels (list, optional): List of labels corresponding to the predictions. \n",
    "                                       If None, default labels will be used.\n",
    "    \"\"\"\n",
    "    # Validate the input\n",
    "    if not isinstance(predictions, np.ndarray):\n",
    "        raise ValueError(\"Predictions should be a numpy array.\")\n",
    "    \n",
    "    predictions = np.maximum(predictions, 0)\n",
    "    num_predictions = len(predictions)\n",
    "    \n",
    "    # Create default word labels if none are provided\n",
    "    if word_labels is None:\n",
    "        word_labels = [f'Word {i}' for i in range(num_predictions)]\n",
    "\n",
    "    # Create a bar chart\n",
    "    plt.figure(figsize=(10, 6))  # Set the figure size\n",
    "    plt.bar(word_labels, predictions, color='skyblue')  # Create bar chart\n",
    "\n",
    "    # Add titles and labels\n",
    "    plt.title('Predicted Word Likelihoods')\n",
    "    plt.xlabel('Words')\n",
    "    plt.ylabel('Likelihood (Probability)')\n",
    "    # plt.ylim(0, 1)  # Set the y-axis limit to 0 and 1\n",
    "\n",
    "    # Show the probability values on top of the bars\n",
    "    # for i, v in enumerate(predictions):\n",
    "    #     plt.text(i, v + 0.02, f\"{v:.2f}\", ha='center', va='bottom')\n",
    "\n",
    "    # Display the bar chart\n",
    "    plt.show()"
   ]
  },
  {
   "cell_type": "code",
   "execution_count": 67,
   "metadata": {},
   "outputs": [
    {
     "data": {
      "image/png": "[encoded data removed]",
      "text/plain": [
       "<Figure size 1000x600 with 1 Axes>"
      ]
     },
     "metadata": {},
     "output_type": "display_data"
    }
   ],
   "source": [
    "plot_prediction_bar_chart(predictions[20000,0])"
   ]
  },
  {
   "cell_type": "code",
   "execution_count": 63,
   "metadata": {},
   "outputs": [
    {
     "data": {
      "text/plain": [
       "(35483, 5)"
      ]
     },
     "execution_count": 63,
     "metadata": {},
     "output_type": "execute_result"
    }
   ],
   "source": [
    "trainY_categorical.shape"
   ]
  },
  {
   "cell_type": "code",
   "execution_count": 62,
   "metadata": {},
   "outputs": [
    {
     "data": {
      "text/plain": [
       "(35483, 5, 235)"
      ]
     },
     "execution_count": 62,
     "metadata": {},
     "output_type": "execute_result"
    }
   ],
   "source": [
    "predictions.shape"
   ]
  },
  {
   "cell_type": "code",
   "execution_count": 65,
   "metadata": {},
   "outputs": [
    {
     "data": {
      "text/plain": [
       "2"
      ]
     },
     "execution_count": 65,
     "metadata": {},
     "output_type": "execute_result"
    }
   ],
   "source": [
    "trainY_categorical[20000,0]"
   ]
  },
  {
   "cell_type": "code",
   "execution_count": 66,
   "metadata": {},
   "outputs": [
    {
     "data": {
      "text/plain": [
       "array([ 8.2417774e-01, -5.3750578e-02,  1.2632398e+01,  5.4579693e-01,  6.5488422e-01,  6.4393109e-01,  2.2560694e+00,  7.7467799e-01,  3.7062296e-01,  7.6388264e-01,  2.6536288e+00, -5.4746807e-02, -4.7284785e-01,  8.5828906e-01, -1.2991976e+00, -1.3310846e+00,  1.9698353e+00,  1.5206512e+00,\n",
       "        1.4642120e-02,  2.5648029e+00, -4.5042017e-01, -8.9414245e-01,  1.3064494e+00,  3.1200869e+00,  2.8529406e+00,  3.1263659e+00,  1.2507272e+00,  1.1562656e+00,  2.5597281e+00, -4.9141216e-01,  1.3262933e+00,  5.1628041e-01,  2.3110111e+00,  1.5315820e+00,  1.5458562e+00,  6.4550632e-01,\n",
       "        3.7463343e-01, -3.7644047e-01,  6.6402084e-01,  2.6401761e-01,  1.0726534e+00, -7.5128692e-01, -1.2379986e+00,  2.7817464e+00, -7.1880925e-01, -2.3747875e-01,  5.2133381e-01, -1.5289198e+00, -9.1950810e-01, -7.2970182e-01,  3.3074090e-01, -6.5326911e-01,  2.2111267e-01,  5.3944522e-01,\n",
       "       -6.6822752e-02,  1.0344256e+00,  3.2885304e-01, -1.2096775e+00, -2.9837074e+00,  1.4521884e+00, -1.8073403e+00,  9.8605901e-01,  1.8032444e+00,  7.5098652e-01, -1.5822246e+00, -9.0250051e-01, -1.0230954e+00, -1.3085464e+00,  2.6320106e-01, -6.6850625e-02, -4.0869888e-02, -1.7133260e+00,\n",
       "       -5.1072550e-01, -1.4370412e+00, -2.5134334e-01,  1.2577546e+00,  1.8132930e-01,  3.9164120e-01, -5.9084004e-01, -5.0432101e-02, -9.5505893e-01,  1.2908418e+00,  2.4901772e-01, -2.0270488e+00, -4.6468391e+00, -2.5106182e+00, -1.2464473e+00, -7.4292850e-01,  1.1472497e+00,  6.7669106e-01,\n",
       "        1.5095341e+00, -1.7161797e+00, -1.0610219e+00, -2.8578691e+00,  1.9034567e+00, -8.2471803e-02, -1.2536157e+00, -9.8884922e-01, -1.7179072e+00, -4.3991799e+00, -1.0091351e+00, -2.9375249e-01,  4.0933645e-01,  2.1557915e+00, -2.7623460e+00,  1.1140755e-01,  3.3619088e-01,  6.2731706e-02,\n",
       "       -6.2843925e-01, -3.5702193e-01, -4.0318114e-01, -5.7947177e-01,  8.1828976e-01,  5.0944281e-01,  9.2177534e-01,  3.6316803e-01, -1.4129034e+00, -1.5846664e+00,  4.5351794e-01, -1.1809494e+00, -9.6010841e-02, -5.1891536e-01,  1.8649189e+00, -5.5478191e-01,  4.9540615e-03, -1.6885432e+00,\n",
       "        6.8028480e-01,  1.5866801e+00, -3.0527544e-01,  7.2044230e-01, -9.3233921e-02,  1.1368041e+00,  1.0553534e+00, -5.3090352e-01, -2.2181281e-01, -9.3139797e-01,  2.6109862e+00,  1.0667634e+00,  9.2510670e-02, -3.1971531e+00, -1.4870706e+00,  1.6286563e+00, -1.2994550e+00, -6.2383032e-01,\n",
       "       -7.7161074e-02,  9.0727456e-02,  3.0916375e-01, -1.8662217e+00, -1.6875161e+00, -1.3233083e+00, -3.4176925e-01, -1.1907885e+00, -1.4532773e+00, -7.5701934e-01, -4.9066320e-01, -7.4498486e-03,  3.6984813e-01,  3.5949436e-01, -6.7501187e-01, -9.3700105e-01,  9.1102034e-01,  1.9938656e+00,\n",
       "       -3.4747270e-01,  1.2643505e+00,  8.1454895e-02, -2.4602971e+00, -1.9082702e+00, -1.2110291e+00, -1.0249915e+00,  1.7146254e+00,  1.6461501e+00,  8.4157622e-01, -1.9797740e+00,  6.4321560e-01,  1.2935477e+00,  1.7714134e+00, -6.2267923e-01, -1.9888723e-01, -6.1399627e-01, -1.6404907e-01,\n",
       "       -1.0746435e+00, -5.0518876e-01, -1.8056027e+00,  3.4638031e+00, -1.6990247e+00,  1.9831206e+00,  8.5592002e-01, -3.3950245e-01, -2.3536046e+00,  3.5997975e-01,  6.1154896e-03,  1.6994506e+00, -1.3606224e+00, -9.9355131e-01, -3.6883292e-01,  1.2610391e+00, -2.0612164e+00,  1.2417293e-01,\n",
       "        2.8855962e-01,  1.3999847e+00,  2.0998523e+00,  7.1727894e-02, -1.8557507e+00, -1.4388283e-01,  1.2900286e+00,  1.2975837e+00, -1.3182830e-02,  1.5311401e-01, -2.7608051e+00, -8.1266545e-02, -7.4055547e-01,  3.4995787e+00, -5.2999449e-01,  1.1424907e-01,  1.9691582e+00,  9.2405587e-01,\n",
       "        3.8631886e-01, -7.4084690e-03, -1.2902746e+00,  7.6975775e-01, -6.0353869e-01,  9.4516927e-01, -3.2117364e-01, -6.3628323e-02, -5.5677015e-01,  1.7053249e+00, -7.0393634e-01, -1.0967855e+00,  1.4025054e+00,  9.8665863e-02, -6.1152041e-01, -2.1687350e+00,  1.3713002e+00,  4.5353541e-01,\n",
       "       -4.9820516e-01], dtype=float32)"
      ]
     },
     "execution_count": 66,
     "metadata": {},
     "output_type": "execute_result"
    }
   ],
   "source": [
    "predictions[20000,0]"
   ]
  },
  {
   "cell_type": "code",
   "execution_count": 71,
   "metadata": {},
   "outputs": [
    {
     "data": {
      "text/plain": [
       "12.632398"
      ]
     },
     "execution_count": 71,
     "metadata": {},
     "output_type": "execute_result"
    }
   ],
   "source": [
    "max(predictions[20000,0])"
   ]
  },
  {
   "cell_type": "code",
   "execution_count": 80,
   "metadata": {},
   "outputs": [],
   "source": [
    "likelihood_errors = np.zeros(trainY_categorical.shape)\n",
    "for i, (event_pred, event_true) in enumerate(zip(predictions, trainY_categorical)):\n",
    "    for j, (attribute_pred, attribute_true) in enumerate(zip(event_pred, event_true)):\n",
    "        likelihood_true = attribute_pred[attribute_true]\n",
    "        likelihood_pred = 0\n",
    "        for pred in attribute_pred:\n",
    "            if pred > likelihood_true:\n",
    "                likelihood_pred += pred\n",
    "        likelihood_errors[i,j] = likelihood_pred\n",
    "        \n",
    "likelihood_errors = np.transpose(likelihood_errors, (1, 0))"
   ]
  },
  {
   "cell_type": "code",
   "execution_count": 82,
   "metadata": {},
   "outputs": [
    {
     "data": {
      "text/plain": [
       "(5, 35483)"
      ]
     },
     "execution_count": 82,
     "metadata": {},
     "output_type": "execute_result"
    }
   ],
   "source": [
    "likelihood_errors.shape"
   ]
  },
  {
   "cell_type": "code",
   "execution_count": 90,
   "metadata": {},
   "outputs": [],
   "source": [
    "import matplotlib.pyplot as plt\n",
    "import numpy as np\n",
    "\n",
    "def plot_lines(errors, keys, title='Likelihood Errors per attribute over time', xlabel='Case Index', ylabel='Likelihood Error'):\n",
    "    plt.figure(figsize=(12, 6))\n",
    "\n",
    "    for i in range(errors.shape[0]):\n",
    "        plt.plot(errors[i], label=keys[i])\n",
    "\n",
    "    plt.xlabel(xlabel)\n",
    "    plt.ylabel(ylabel)\n",
    "    plt.title(title)\n",
    "    plt.legend()\n",
    "    plt.show()"
   ]
  },
  {
   "cell_type": "code",
   "execution_count": 91,
   "metadata": {},
   "outputs": [
    {
     "name": "stdout",
     "output_type": "stream",
     "text": [
      "(5, 35384)\n"
     ]
    }
   ],
   "source": [
    "def rolling_average_np(errors, window_size=10):\n",
    "    kernel = np.ones(window_size) / window_size\n",
    "    rolling_avg = np.array([np.convolve(attribute, kernel, mode='valid') for attribute in errors])\n",
    "    return rolling_avg\n",
    "\n",
    "smoothed_likelihood_errors = rolling_average_np(likelihood_errors, window_size=100)\n",
    "print(smoothed_likelihood_errors.shape)"
   ]
  },
  {
   "cell_type": "code",
   "execution_count": 92,
   "metadata": {},
   "outputs": [
    {
     "data": {
      "image/png": "[encoded data removed]",
      "text/plain": [
       "<Figure size 1200x600 with 1 Axes>"
      ]
     },
     "metadata": {},
     "output_type": "display_data"
    }
   ],
   "source": [
    "plot_lines(smoothed_likelihood_errors, categorical_keys)"
   ]
  }
 ],
 "metadata": {
  "kernelspec": {
   "display_name": "rcvdb-thesis-bpad",
   "language": "python",
   "name": "python3"
  },
  "language_info": {
   "codemirror_mode": {
    "name": "ipython",
    "version": 3
   },
   "file_extension": ".py",
   "mimetype": "text/x-python",
   "name": "python",
   "nbconvert_exporter": "python",
   "pygments_lexer": "ipython3",
   "version": "3.9.19"
  }
 },
 "nbformat": 4,
 "nbformat_minor": 2
}
