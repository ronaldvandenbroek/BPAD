{
 "cells": [
  {
   "cell_type": "code",
   "execution_count": 1,
   "metadata": {},
   "outputs": [
    {
     "name": "stdout",
     "output_type": "stream",
     "text": [
      "Found 0.38 hours in ..\\results\\Anomaly_Percentage\n",
      "Found 1.66 hours in ..\\results\\Batch_Size\n",
      "Found 5.20 hours in ..\\results\\Batch_Size_BP-DAE\n",
      "Found 8.94 hours in ..\\results\\Batch_Size_MP-Former\n",
      "Found 67.14 hours in ..\\results\\Bucketing\n",
      "Found 0.52 hours in ..\\results\\Finetuning_F-V\n",
      "Found 2.32 hours in ..\\results\\Finetuning_T2V\n",
      "Found 2.32 hours in ..\\results\\Finetuning_W2V\n",
      "Found 99.39 hours in ..\\results\\Offline_Viability\n",
      "Found 43.67 hours in ..\\results\\Online_Viability\n",
      "Found 20.46 hours in ..\\results\\Real_World_All_Models\n",
      "Found 2.83 hours in ..\\results\\Real_World_All_Models_T2V_C\n",
      "Found 11.46 hours in ..\\results\\Synthetic_All_Models\n",
      "Found 1.09 hours in ..\\results\\Synthetic_Dataset\n",
      "Found 3.52 hours in ..\\results\\Transformer_Event_Positional_Encoding\n",
      "Found 11.19 hours in ..\\results\\Transformer_Multi_Task\n",
      "Found 28.41 hours in ..\\results\\Transformer_Perspective_Weights\n",
      "Found 3.59 hours in ..\\results\\Transformer_Prefix_Store\n",
      "Total runtime: 314.09 hours\n"
     ]
    }
   ],
   "source": [
    "import os\n",
    "import re\n",
    "\n",
    "def extract_hours(file_path):\n",
    "    \"\"\"Extract the total runtime in hours from the file.\"\"\"\n",
    "    with open(file_path, 'r') as file:\n",
    "        for line in file:\n",
    "            match = re.search(r'([\\d.]+)\\s+hours', line)\n",
    "            if match:\n",
    "                return float(match.group(1))\n",
    "    return 0.0\n",
    "\n",
    "def sum_total_runtime(directory):\n",
    "    \"\"\"Recursively find all total_runtime.txt files and sum their hours.\"\"\"\n",
    "    total_hours = 0.0\n",
    "    for root, _, files in os.walk(directory):\n",
    "        if 'total_runtime.txt' in files:\n",
    "            file_path = os.path.join(root, 'total_runtime.txt')\n",
    "            if \"archive\" in file_path:\n",
    "                continue\n",
    "            hours = extract_hours(file_path)\n",
    "            total_hours += hours\n",
    "            print(f\"Found {hours:.2f} hours in {root}\")\n",
    "    return total_hours\n",
    "\n",
    "# Example usage\n",
    "directory_to_scan = \"..\\\\results\" \n",
    "total_hours = sum_total_runtime(directory_to_scan)\n",
    "print(f\"Total runtime: {total_hours:.2f} hours\")"
   ]
  }
 ],
 "metadata": {
  "kernelspec": {
   "display_name": "rcvdb-thesis-bpad",
   "language": "python",
   "name": "python3"
  },
  "language_info": {
   "codemirror_mode": {
    "name": "ipython",
    "version": 3
   },
   "file_extension": ".py",
   "mimetype": "text/x-python",
   "name": "python",
   "nbconvert_exporter": "python",
   "pygments_lexer": "ipython3",
   "version": "3.9.19"
  }
 },
 "nbformat": 4,
 "nbformat_minor": 2
}
