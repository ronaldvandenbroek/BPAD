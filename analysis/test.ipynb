{
 "cells": [
  {
   "cell_type": "code",
   "execution_count": 1,
   "metadata": {},
   "outputs": [],
   "source": [
    "import sys\n",
    "import os\n",
    "\n",
    "import os\n",
    "cwd = os.getcwd()\n",
    "root_path = os.path.abspath('..')\n",
    "sys.path.insert(0, root_path)"
   ]
  },
  {
   "cell_type": "code",
   "execution_count": 2,
   "metadata": {},
   "outputs": [
    {
     "name": "stdout",
     "output_type": "stream",
     "text": [
      "Bucket assignments: [0, 1, 1, 2, 2, 3]\n"
     ]
    }
   ],
   "source": [
    "import numpy as np\n",
    "\n",
    "def assign_to_buckets(input_lengths, bucket_boundaries):\n",
    "    \"\"\"\n",
    "    Assign each input length to a bucket.\n",
    "    \n",
    "    Args:\n",
    "        input_lengths: A list or array of input lengths.\n",
    "        bucket_boundaries: A list of upper limits for each bucket. \n",
    "                           For example: [10, 20, 30] means we have buckets for lengths <= 10, 11-20, and 21-30.\n",
    "    \n",
    "    Returns:\n",
    "        A list of bucket indices where each input belongs.\n",
    "    \"\"\"\n",
    "    bucket_boundaries_size = len(bucket_boundaries)\n",
    "    bucket_ids = []\n",
    "    for length in input_lengths:\n",
    "        if length > bucket_boundaries[-1]:\n",
    "            bucket_ids.append(bucket_boundaries_size)   \n",
    "\n",
    "        for i, boundary in enumerate(bucket_boundaries):\n",
    "            if length <= boundary:\n",
    "                bucket_ids.append(i)\n",
    "                break\n",
    "        \n",
    "    return bucket_ids\n",
    "\n",
    "# Example usage\n",
    "input_lengths = [5, 12, 18, 25, 30, 35]\n",
    "bucket_boundaries = [10, 20, 30]  # Define length ranges\n",
    "bucket_ids = assign_to_buckets(input_lengths, bucket_boundaries)\n",
    "print(\"Bucket assignments:\", bucket_ids)"
   ]
  },
  {
   "cell_type": "code",
   "execution_count": 3,
   "metadata": {},
   "outputs": [
    {
     "name": "stdout",
     "output_type": "stream",
     "text": [
      "[-0.00644906  0.01733155 -0.01023754 -0.01885275  0.00801297 -0.00205292\n",
      " -0.01582611  0.03486164 -0.00880426  0.01259518 -0.01702284  0.01985285\n",
      "  0.00657884 -0.02617129  0.01755901 -0.00971356  0.03339474 -0.0225519\n",
      " -0.01023623 -0.00684706]\n"
     ]
    }
   ],
   "source": [
    "import numpy as np\n",
    "\n",
    "# Given arrays\n",
    "arrays = [\n",
    "    np.array([ 0.03655883,  0.02535131,  0.03378846,  0.00381433,  0.03175445,\n",
    "               -0.01702683, -0.00473201,  0.02884287, -0.03760819, -0.01968052,\n",
    "               -0.03755791, -0.00465021,  0.04769059, -0.03659583, -0.01166884,\n",
    "               -0.00968871,  0.04038718, -0.02965448,  0.00022581, -0.02376867],\n",
    "              dtype=np.float32),\n",
    "    np.array([-0.04801775,  0.02503647, -0.04379793, -0.02195913, -0.0001755 ,\n",
    "               -0.00148091, -0.0383062 ,  0.04807372,  0.02491029,  0.04616572,\n",
    "               -0.04078959,  0.02247899, -0.02068538,  0.00412268,  0.0424931 ,\n",
    "               -0.02231088,  0.0225875 , -0.0339348 , -0.01774244,  0.04699254],\n",
    "              dtype=np.float32),\n",
    "    np.array([-0.00788826,  0.00160686, -0.02070315, -0.03841344, -0.00754004,\n",
    "                0.01234897, -0.00444013,  0.02766831, -0.01371489,  0.01130033,\n",
    "                0.02727897,  0.04172977, -0.0072687 , -0.04604071,  0.02185276,\n",
    "                0.00285892,  0.03720954, -0.00406641, -0.01319207, -0.04376505],\n",
    "              dtype=np.float32)\n",
    "]\n",
    "\n",
    "# Stack the arrays vertically\n",
    "stacked_arrays = np.vstack(arrays)\n",
    "\n",
    "# Calculate the mean along the first axis (across the arrays)\n",
    "averaged_values = np.mean(stacked_arrays, axis=0)\n",
    "\n",
    "print(averaged_values)"
   ]
  },
  {
   "cell_type": "code",
   "execution_count": 4,
   "metadata": {},
   "outputs": [
    {
     "name": "stdout",
     "output_type": "stream",
     "text": [
      "[[['(0,0,0)' '(0,0,1)' '(0,0,2)' '(0,0,3)']\n",
      "  ['(0,1,0)' '(0,1,1)' '(0,1,2)' '(0,1,3)']\n",
      "  ['(0,2,0)' '(0,2,1)' '(0,2,2)' '(0,2,3)']]\n",
      "\n",
      " [['(1,0,0)' '(1,0,1)' '(1,0,2)' '(1,0,3)']\n",
      "  ['(1,1,0)' '(1,1,1)' '(1,1,2)' '(1,1,3)']\n",
      "  ['(1,2,0)' '(1,2,1)' '(1,2,2)' '(1,2,3)']]]\n"
     ]
    }
   ],
   "source": [
    "# Define the shape\n",
    "shape = (2, 3, 4)\n",
    "\n",
    "# Create an empty array of the desired shape\n",
    "array = np.empty(shape, dtype=object)\n",
    "\n",
    "# Populate the array with string representations of the indices\n",
    "for i in range(shape[0]):\n",
    "    for j in range(shape[1]):\n",
    "        for k in range(shape[2]):\n",
    "            array[i, j, k] = f'({i},{j},{k})'  # Use formatted string for the indices\n",
    "\n",
    "# Print the resulting array\n",
    "print(array)"
   ]
  },
  {
   "cell_type": "code",
   "execution_count": 5,
   "metadata": {},
   "outputs": [],
   "source": [
    "# [ \n",
    "#     [ \n",
    "#         ['(0,0,0)' '(0,0,1)' '(0,0,2)' '(0,0,3)'] # Each of the \n",
    "#         ['(0,1,0)' '(0,1,1)' '(0,1,2)' '(0,1,3)']\n",
    "#         ['(0,2,0)' '(0,2,1)' '(0,2,2)' '(0,2,3)']\n",
    "#     ]\n",
    "#     [\n",
    "#         ['(1,0,0)' '(1,0,1)' '(1,0,2)' '(1,0,3)']\n",
    "#         ['(1,1,0)' '(1,1,1)' '(1,1,2)' '(1,1,3)']\n",
    "#         ['(1,2,0)' '(1,2,1)' '(1,2,2)' '(1,2,3)']\n",
    "#     ]\n",
    "# ]\n",
    "\n",
    "# (dim1, dim0 * dim2)\n",
    "# # so output should be (3, 2*4)\n",
    "# '(0,0,0)' '(0,0,1)' '(0,0,2)' '(0,0,3)' '(1,0,0)' '(1,0,1)' '(1,0,2)' '(1,0,3)'\n",
    "# '(0,1,0)' '(0,1,1)' '(0,1,2)' '(0,1,3)' '(1,1,0)' '(1,1,1)' '(1,1,2)' '(1,1,3)'\n",
    "# '(0,2,0)' '(0,2,1)' '(0,2,2)' '(0,2,3)' '(1,2,0)' '(1,2,1)' '(1,2,2)' '(1,2,3)'"
   ]
  },
  {
   "cell_type": "code",
   "execution_count": 6,
   "metadata": {},
   "outputs": [
    {
     "name": "stdout",
     "output_type": "stream",
     "text": [
      "[['(0,0,0)' '(1,1,0)' '(0,0,1)' '(1,1,1)' '(0,0,2)' '(1,1,2)' '(0,0,3)'\n",
      "  '(1,1,3)']\n",
      " ['(1,0,0)' '(0,2,0)' '(1,0,1)' '(0,2,1)' '(1,0,2)' '(0,2,2)' '(1,0,3)'\n",
      "  '(0,2,3)']\n",
      " ['(0,1,0)' '(1,2,0)' '(0,1,1)' '(1,2,1)' '(0,1,2)' '(1,2,2)' '(0,1,3)'\n",
      "  '(1,2,3)']]\n"
     ]
    }
   ],
   "source": [
    "dim0, dim1, dim2 = array.shape\n",
    "flat_numeric_features = np.reshape(array, (dim1, dim0 * dim2), order='F')\n",
    "\n",
    "print(flat_numeric_features)"
   ]
  },
  {
   "cell_type": "code",
   "execution_count": 7,
   "metadata": {},
   "outputs": [
    {
     "name": "stdout",
     "output_type": "stream",
     "text": [
      "[['(0,0,0)' '(0,0,1)' '(0,0,2)' '(0,0,3)' '(1,0,0)' '(1,0,1)' '(1,0,2)'\n",
      "  '(1,0,3)']\n",
      " ['(0,1,0)' '(0,1,1)' '(0,1,2)' '(0,1,3)' '(1,1,0)' '(1,1,1)' '(1,1,2)'\n",
      "  '(1,1,3)']\n",
      " ['(0,2,0)' '(0,2,1)' '(0,2,2)' '(0,2,3)' '(1,2,0)' '(1,2,1)' '(1,2,2)'\n",
      "  '(1,2,3)']]\n"
     ]
    }
   ],
   "source": [
    "# Step 1: Transpose the array to swap dim0 and dim1\n",
    "transposed_array = np.transpose(array, (1, 0, 2))\n",
    "\n",
    "# Step 2: Reshape in C-order (row-major)\n",
    "flat_numeric_features = np.reshape(transposed_array, (dim1, dim0 * dim2), order='C')\n",
    "\n",
    "print(flat_numeric_features)"
   ]
  },
  {
   "cell_type": "code",
   "execution_count": 8,
   "metadata": {},
   "outputs": [],
   "source": [
    "# Generate 12 unique values (since 2*2*3 = 12)\n",
    "unique_values = np.arange(24)\n",
    "\n",
    "# Reshape the array to the desired shape (2, 2, 3)\n",
    "array = unique_values.reshape(2, 3, 4)"
   ]
  },
  {
   "cell_type": "code",
   "execution_count": 9,
   "metadata": {},
   "outputs": [],
   "source": [
    "# Create an array of shape (5, 10, 13)\n",
    "array = np.zeros((5, 3, 4))\n",
    "\n",
    "# Set values for each slice along axis 0\n",
    "for i in range(array.shape[0]):\n",
    "    array[i, :, :] = i  # Set all values at axis 0 [i] to i"
   ]
  },
  {
   "cell_type": "code",
   "execution_count": 10,
   "metadata": {},
   "outputs": [
    {
     "data": {
      "text/plain": [
       "array([[[0., 0., 0., 0.],\n",
       "        [0., 0., 0., 0.],\n",
       "        [0., 0., 0., 0.]],\n",
       "\n",
       "       [[1., 1., 1., 1.],\n",
       "        [1., 1., 1., 1.],\n",
       "        [1., 1., 1., 1.]],\n",
       "\n",
       "       [[2., 2., 2., 2.],\n",
       "        [2., 2., 2., 2.],\n",
       "        [2., 2., 2., 2.]],\n",
       "\n",
       "       [[3., 3., 3., 3.],\n",
       "        [3., 3., 3., 3.],\n",
       "        [3., 3., 3., 3.]],\n",
       "\n",
       "       [[4., 4., 4., 4.],\n",
       "        [4., 4., 4., 4.],\n",
       "        [4., 4., 4., 4.]]])"
      ]
     },
     "execution_count": 10,
     "metadata": {},
     "output_type": "execute_result"
    }
   ],
   "source": [
    "array"
   ]
  },
  {
   "cell_type": "code",
   "execution_count": 11,
   "metadata": {},
   "outputs": [
    {
     "data": {
      "text/plain": [
       "(5, 3, 4)"
      ]
     },
     "execution_count": 11,
     "metadata": {},
     "output_type": "execute_result"
    }
   ],
   "source": [
    "array.shape"
   ]
  },
  {
   "cell_type": "code",
   "execution_count": 12,
   "metadata": {},
   "outputs": [],
   "source": [
    "transposed_array = np.transpose(array, (1, 0, 2))"
   ]
  },
  {
   "cell_type": "code",
   "execution_count": 13,
   "metadata": {},
   "outputs": [
    {
     "data": {
      "text/plain": [
       "array([[[0., 0., 0., 0.],\n",
       "        [1., 1., 1., 1.],\n",
       "        [2., 2., 2., 2.],\n",
       "        [3., 3., 3., 3.],\n",
       "        [4., 4., 4., 4.]],\n",
       "\n",
       "       [[0., 0., 0., 0.],\n",
       "        [1., 1., 1., 1.],\n",
       "        [2., 2., 2., 2.],\n",
       "        [3., 3., 3., 3.],\n",
       "        [4., 4., 4., 4.]],\n",
       "\n",
       "       [[0., 0., 0., 0.],\n",
       "        [1., 1., 1., 1.],\n",
       "        [2., 2., 2., 2.],\n",
       "        [3., 3., 3., 3.],\n",
       "        [4., 4., 4., 4.]]])"
      ]
     },
     "execution_count": 13,
     "metadata": {},
     "output_type": "execute_result"
    }
   ],
   "source": [
    "transposed_array"
   ]
  },
  {
   "cell_type": "code",
   "execution_count": 14,
   "metadata": {},
   "outputs": [
    {
     "data": {
      "text/plain": [
       "(3, 5, 4)"
      ]
     },
     "execution_count": 14,
     "metadata": {},
     "output_type": "execute_result"
    }
   ],
   "source": [
    "transposed_array.shape"
   ]
  },
  {
   "cell_type": "code",
   "execution_count": 15,
   "metadata": {},
   "outputs": [],
   "source": [
    "dim0, dim1, dim2 = transposed_array.shape\n",
    "flat_transposed_array = np.reshape(transposed_array, (dim0, dim1 * dim2), order='F')"
   ]
  },
  {
   "cell_type": "code",
   "execution_count": 16,
   "metadata": {},
   "outputs": [
    {
     "data": {
      "text/plain": [
       "array([[0., 1., 2., 3., 4., 0., 1., 2., 3., 4., 0., 1., 2., 3., 4., 0.,\n",
       "        1., 2., 3., 4.],\n",
       "       [0., 1., 2., 3., 4., 0., 1., 2., 3., 4., 0., 1., 2., 3., 4., 0.,\n",
       "        1., 2., 3., 4.],\n",
       "       [0., 1., 2., 3., 4., 0., 1., 2., 3., 4., 0., 1., 2., 3., 4., 0.,\n",
       "        1., 2., 3., 4.]])"
      ]
     },
     "execution_count": 16,
     "metadata": {},
     "output_type": "execute_result"
    }
   ],
   "source": [
    "flat_transposed_array"
   ]
  },
  {
   "cell_type": "code",
   "execution_count": 17,
   "metadata": {},
   "outputs": [],
   "source": [
    "# Generate 12 unique values (since 2*2*3 = 12)\n",
    "unique_values = np.arange(6)\n",
    "\n",
    "# Reshape the array to the desired shape (2, 2, 3)\n",
    "array_2 = unique_values.reshape(3, 2)"
   ]
  },
  {
   "cell_type": "code",
   "execution_count": 18,
   "metadata": {},
   "outputs": [
    {
     "data": {
      "text/plain": [
       "array([[0, 1],\n",
       "       [2, 3],\n",
       "       [4, 5]])"
      ]
     },
     "execution_count": 18,
     "metadata": {},
     "output_type": "execute_result"
    }
   ],
   "source": [
    "array_2"
   ]
  },
  {
   "cell_type": "code",
   "execution_count": 19,
   "metadata": {},
   "outputs": [],
   "source": [
    "array_concatinate = np.concatenate((flat_transposed_array,array_2), axis=1)"
   ]
  },
  {
   "cell_type": "code",
   "execution_count": 20,
   "metadata": {},
   "outputs": [
    {
     "data": {
      "text/plain": [
       "array([[0., 1., 2., 3., 4., 0., 1., 2., 3., 4., 0., 1., 2., 3., 4., 0.,\n",
       "        1., 2., 3., 4., 0., 1.],\n",
       "       [0., 1., 2., 3., 4., 0., 1., 2., 3., 4., 0., 1., 2., 3., 4., 0.,\n",
       "        1., 2., 3., 4., 2., 3.],\n",
       "       [0., 1., 2., 3., 4., 0., 1., 2., 3., 4., 0., 1., 2., 3., 4., 0.,\n",
       "        1., 2., 3., 4., 4., 5.]])"
      ]
     },
     "execution_count": 20,
     "metadata": {},
     "output_type": "execute_result"
    }
   ],
   "source": [
    "array_concatinate"
   ]
  },
  {
   "cell_type": "code",
   "execution_count": 21,
   "metadata": {},
   "outputs": [
    {
     "name": "stdout",
     "output_type": "stream",
     "text": [
      "[[[0. 0. 0. 0.]\n",
      "  [0. 0. 0. 0.]\n",
      "  [0. 0. 0. 0.]]\n",
      "\n",
      " [[1. 1. 1. 1.]\n",
      "  [1. 1. 1. 1.]\n",
      "  [1. 1. 1. 1.]]\n",
      "\n",
      " [[2. 2. 2. 2.]\n",
      "  [2. 2. 2. 2.]\n",
      "  [2. 2. 2. 2.]]\n",
      "\n",
      " [[3. 3. 3. 3.]\n",
      "  [3. 3. 3. 3.]\n",
      "  [3. 3. 3. 3.]]\n",
      "\n",
      " [[4. 4. 4. 4.]\n",
      "  [4. 4. 4. 4.]\n",
      "  [4. 4. 4. 4.]]]\n"
     ]
    }
   ],
   "source": [
    "# Create an array of shape (5, 10, 13)\n",
    "array = np.zeros((5, 3, 4))\n",
    "\n",
    "# Set values for each slice along axis 0\n",
    "for i in range(array.shape[0]):\n",
    "    array[i, :, :] = i  # Set all values at axis 0 [i] to i\n",
    "\n",
    "print(array)"
   ]
  },
  {
   "cell_type": "code",
   "execution_count": 22,
   "metadata": {},
   "outputs": [],
   "source": [
    "bucket_boundaries = list(range(3,10,4))"
   ]
  },
  {
   "cell_type": "code",
   "execution_count": 23,
   "metadata": {},
   "outputs": [
    {
     "data": {
      "text/plain": [
       "[3, 7]"
      ]
     },
     "execution_count": 23,
     "metadata": {},
     "output_type": "execute_result"
    }
   ],
   "source": [
    "bucket_boundaries"
   ]
  },
  {
   "cell_type": "code",
   "execution_count": 24,
   "metadata": {},
   "outputs": [],
   "source": [
    "from utils.enums import EncodingCategorical\n",
    "\n",
    "enc = EncodingCategorical.WORD_2_VEC_ATC\n",
    "categorical_encoding = EncodingCategorical.items_short()[enc]"
   ]
  },
  {
   "cell_type": "code",
   "execution_count": 25,
   "metadata": {},
   "outputs": [
    {
     "data": {
      "text/plain": [
       "'W2V-ATC'"
      ]
     },
     "execution_count": 25,
     "metadata": {},
     "output_type": "execute_result"
    }
   ],
   "source": [
    "categorical_encoding"
   ]
  },
  {
   "cell_type": "code",
   "execution_count": 4,
   "metadata": {},
   "outputs": [
    {
     "name": "stdout",
     "output_type": "stream",
     "text": [
      "tensor([[3, 5],\n",
      "        [6, 7],\n",
      "        [7, 7],\n",
      "        [7, 0]])\n",
      "tensor([[[3, 3, 3],\n",
      "         [5, 5, 5]],\n",
      "\n",
      "        [[6, 6, 6],\n",
      "         [7, 7, 7]],\n",
      "\n",
      "        [[7, 7, 7],\n",
      "         [7, 7, 7]],\n",
      "\n",
      "        [[7, 7, 7],\n",
      "         [0, 0, 0]]])\n",
      "Original tensor shape: torch.Size([4, 2])\n",
      "Extended tensor shape: torch.Size([4, 2, 3])\n"
     ]
    },
    {
     "ename": "",
     "evalue": "",
     "output_type": "error",
     "traceback": [
      "\u001b[1;31mThe Kernel crashed while executing code in the current cell or a previous cell. \n",
      "\u001b[1;31mPlease review the code in the cell(s) to identify a possible cause of the failure. \n",
      "\u001b[1;31mClick <a href='https://aka.ms/vscodeJupyterKernelCrash'>here</a> for more info. \n",
      "\u001b[1;31mView Jupyter <a href='command:jupyter.viewOutput'>log</a> for further details."
     ]
    }
   ],
   "source": [
    "import torch\n",
    "\n",
    "# Original tensor of shape (batch_size, sequence_length)\n",
    "batch_size = 4\n",
    "sequence_length = 2\n",
    "tensor = torch.randint(0, 10, (batch_size, sequence_length))  # Example tensor\n",
    "\n",
    "print(tensor)\n",
    "\n",
    "# Extend to shape (batch_size, sequence_length, dim_model)\n",
    "dim_model = 3\n",
    "tensor_extended = tensor.unsqueeze(-1).repeat(1, 1, dim_model)\n",
    "\n",
    "print(tensor_extended)\n",
    "\n",
    "print(\"Original tensor shape:\", tensor.shape)\n",
    "print(\"Extended tensor shape:\", tensor_extended.shape)"
   ]
  },
  {
   "cell_type": "code",
   "execution_count": 10,
   "metadata": {},
   "outputs": [],
   "source": [
    "import tensorflow as tf\n",
    "import numpy as np\n",
    "\n",
    "def get_angles(pos, i, dim_model):\n",
    "    angle_rates = 1 / np.power(10000, (2 * (i//2)) / np.float32(dim_model))\n",
    "    return pos * angle_rates\n",
    "\n",
    "def positional_encoding(sentence_length, dim_model):\n",
    "        angle_rads = get_angles(np.arange(sentence_length)[:, np.newaxis],\n",
    "                                     np.arange(dim_model)[np.newaxis, :],\n",
    "                                     dim_model)\n",
    "        # apply sin to even indices in the array; 2i\n",
    "        angle_rads[:, 0::2] = np.sin(angle_rads[:, 0::2])\n",
    "        # apply cos to odd indices in the array; 2i+1\n",
    "        angle_rads[:, 1::2] = np.cos(angle_rads[:, 1::2])\n",
    "        \n",
    "        pos_encoding = angle_rads[np.newaxis, ...]\n",
    "        \n",
    "        return tf.cast(pos_encoding, dtype=tf.float32)"
   ]
  },
  {
   "cell_type": "code",
   "execution_count": 28,
   "metadata": {},
   "outputs": [],
   "source": [
    "case_length = 2\n",
    "sequence_length = 10\n",
    "attribute_num = int(sequence_length/case_length)\n",
    "dim_model = 4\n",
    "\n",
    "positional_matrix_event = positional_encoding(case_length, dim_model)\n",
    "positional_matrix_case = tf.repeat(positional_matrix_event, attribute_num, axis=1)\n",
    "\n",
    "positional_matrix_sequence = positional_encoding(sequence_length, dim_model)"
   ]
  },
  {
   "cell_type": "code",
   "execution_count": 29,
   "metadata": {},
   "outputs": [
    {
     "data": {
      "text/plain": [
       "<tf.Tensor: shape=(1, 2, 4), dtype=float32, numpy=\n",
       "array([[[0.        , 1.        , 0.        , 1.        ],\n",
       "        [0.84147096, 0.5403023 , 0.00999983, 0.99995   ]]], dtype=float32)>"
      ]
     },
     "execution_count": 29,
     "metadata": {},
     "output_type": "execute_result"
    }
   ],
   "source": [
    "positional_matrix_event"
   ]
  },
  {
   "cell_type": "code",
   "execution_count": 30,
   "metadata": {},
   "outputs": [
    {
     "data": {
      "text/plain": [
       "<tf.Tensor: shape=(1, 10, 4), dtype=float32, numpy=\n",
       "array([[[0.        , 1.        , 0.        , 1.        ],\n",
       "        [0.        , 1.        , 0.        , 1.        ],\n",
       "        [0.        , 1.        , 0.        , 1.        ],\n",
       "        [0.        , 1.        , 0.        , 1.        ],\n",
       "        [0.        , 1.        , 0.        , 1.        ],\n",
       "        [0.84147096, 0.5403023 , 0.00999983, 0.99995   ],\n",
       "        [0.84147096, 0.5403023 , 0.00999983, 0.99995   ],\n",
       "        [0.84147096, 0.5403023 , 0.00999983, 0.99995   ],\n",
       "        [0.84147096, 0.5403023 , 0.00999983, 0.99995   ],\n",
       "        [0.84147096, 0.5403023 , 0.00999983, 0.99995   ]]], dtype=float32)>"
      ]
     },
     "execution_count": 30,
     "metadata": {},
     "output_type": "execute_result"
    }
   ],
   "source": [
    "positional_matrix_case"
   ]
  },
  {
   "cell_type": "code",
   "execution_count": 20,
   "metadata": {},
   "outputs": [
    {
     "data": {
      "text/plain": [
       "<tf.Tensor: shape=(1, 10, 4), dtype=float32, numpy=\n",
       "array([[[ 0.        ,  1.        ,  0.        ,  1.        ],\n",
       "        [ 0.84147096,  0.5403023 ,  0.00999983,  0.99995   ],\n",
       "        [ 0.9092974 , -0.41614684,  0.01999867,  0.9998    ],\n",
       "        [ 0.14112   , -0.9899925 ,  0.0299955 ,  0.99955004],\n",
       "        [-0.7568025 , -0.6536436 ,  0.03998933,  0.9992001 ],\n",
       "        [-0.9589243 ,  0.2836622 ,  0.04997917,  0.99875027],\n",
       "        [-0.2794155 ,  0.96017027,  0.059964  ,  0.99820054],\n",
       "        [ 0.6569866 ,  0.75390226,  0.06994285,  0.997551  ],\n",
       "        [ 0.98935825, -0.14550003,  0.0799147 ,  0.99680173],\n",
       "        [ 0.4121185 , -0.91113025,  0.08987855,  0.9959527 ]]],\n",
       "      dtype=float32)>"
      ]
     },
     "execution_count": 20,
     "metadata": {},
     "output_type": "execute_result"
    }
   ],
   "source": [
    "positional_matrix_sequence"
   ]
  }
 ],
 "metadata": {
  "kernelspec": {
   "display_name": "rcvdb-thesis-bpad",
   "language": "python",
   "name": "python3"
  },
  "language_info": {
   "codemirror_mode": {
    "name": "ipython",
    "version": 3
   },
   "file_extension": ".py",
   "mimetype": "text/x-python",
   "name": "python",
   "nbconvert_exporter": "python",
   "pygments_lexer": "ipython3",
   "version": "3.9.19"
  }
 },
 "nbformat": 4,
 "nbformat_minor": 2
}
